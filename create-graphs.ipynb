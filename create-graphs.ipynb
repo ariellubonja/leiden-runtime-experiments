{
 "cells": [
  {
   "cell_type": "code",
   "execution_count": 1,
   "metadata": {},
   "outputs": [],
   "source": [
    "import math\n",
    "from igraph import Graph"
   ]
  },
  {
   "cell_type": "code",
   "execution_count": 2,
   "metadata": {},
   "outputs": [],
   "source": [
    "num_nodes = 100000 # Can have up to 5b edges (fully-connected)\n",
    "edge_prob = 0.025"
   ]
  },
  {
   "cell_type": "code",
   "execution_count": 3,
   "metadata": {},
   "outputs": [
    {
     "data": {
      "text/plain": [
       "4999950000"
      ]
     },
     "execution_count": 3,
     "metadata": {},
     "output_type": "execute_result"
    }
   ],
   "source": [
    "# Nr. possible edges for that nr. nodes\n",
    "math.comb(num_nodes, 2)"
   ]
  },
  {
   "cell_type": "code",
   "execution_count": 4,
   "metadata": {},
   "outputs": [
    {
     "name": "stdout",
     "output_type": "stream",
     "text": [
      "n_desired_edges\n",
      "8192 16384 32768 65536 131072 262144 524288 1048576 2097152 4194304 8388608 16777216 33554432 67108864 134217728 268435456 536870912 1073741824\n"
     ]
    }
   ],
   "source": [
    "n_desired_edges = [2**i for i in range(13,31)]\n",
    "\n",
    "print(\"n_desired_edges\")\n",
    "print(' '.join([str(i) for i in n_desired_edges]))"
   ]
  },
  {
   "cell_type": "code",
   "execution_count": 5,
   "metadata": {},
   "outputs": [],
   "source": [
    "edge_prob_for_desired_nr_edges = [n / math.comb(num_nodes, 2) for n in n_desired_edges]\n",
    "# edge_prob_for_desired_nr_edges"
   ]
  },
  {
   "cell_type": "code",
   "execution_count": 6,
   "metadata": {},
   "outputs": [],
   "source": [
    "# Make sure we get (on average) the desired number of edges\n",
    "for i in range(len(n_desired_edges)):\n",
    "    assert math.comb(num_nodes, 2) * edge_prob_for_desired_nr_edges[i] == n_desired_edges[i]"
   ]
  },
  {
   "cell_type": "code",
   "execution_count": 8,
   "metadata": {},
   "outputs": [],
   "source": [
    "for edge_prob in edge_prob_for_desired_nr_edges:\n",
    "    graph = Graph.Erdos_Renyi(n=num_nodes, p=edge_prob)\n",
    "    graph.write_edgelist(\"erdos-renyi-graphs/\" + str(graph.ecount()) + \"-edges.edgelist\")"
   ]
  },
  {
   "cell_type": "code",
   "execution_count": null,
   "metadata": {},
   "outputs": [],
   "source": []
  }
 ],
 "metadata": {
  "kernelspec": {
   "display_name": "venv",
   "language": "python",
   "name": "python3"
  },
  "language_info": {
   "codemirror_mode": {
    "name": "ipython",
    "version": 3
   },
   "file_extension": ".py",
   "mimetype": "text/x-python",
   "name": "python",
   "nbconvert_exporter": "python",
   "pygments_lexer": "ipython3",
   "version": "3.9.6"
  },
  "orig_nbformat": 4
 },
 "nbformat": 4,
 "nbformat_minor": 2
}
