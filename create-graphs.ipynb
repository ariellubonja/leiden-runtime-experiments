{
 "cells": [
  {
   "cell_type": "code",
   "execution_count": 1,
   "metadata": {},
   "outputs": [],
   "source": [
    "import math\n",
    "from igraph import Graph"
   ]
  },
  {
   "cell_type": "code",
   "execution_count": 2,
   "metadata": {},
   "outputs": [],
   "source": [
    "num_nodes = 100000 # Can have up to 5b edges (fully-connected)"
   ]
  },
  {
   "cell_type": "code",
   "execution_count": 3,
   "metadata": {},
   "outputs": [
    {
     "data": {
      "text/plain": [
       "4999950000"
      ]
     },
     "execution_count": 3,
     "metadata": {},
     "output_type": "execute_result"
    }
   ],
   "source": [
    "edge_prob = 0.025\n",
    "# Nr. possible edges for that nr. nodes\n",
    "math.comb(num_nodes, 2)"
   ]
  },
  {
   "cell_type": "code",
   "execution_count": 4,
   "metadata": {},
   "outputs": [
    {
     "name": "stdout",
     "output_type": "stream",
     "text": [
      "n_desired_edges\n",
      "8192 16384 32768 65536 131072 262144 524288 1048576 2097152 4194304 8388608 16777216 33554432 67108864 134217728 268435456 536870912 1073741824\n"
     ]
    }
   ],
   "source": [
    "n_desired_edges = [2**i for i in range(13,31)]\n",
    "\n",
    "print(\"n_desired_edges\")\n",
    "print(' '.join([str(i) for i in n_desired_edges]))"
   ]
  },
  {
   "cell_type": "code",
   "execution_count": 6,
   "metadata": {},
   "outputs": [
    {
     "data": {
      "text/plain": [
       "[2147483648]"
      ]
     },
     "execution_count": 6,
     "metadata": {},
     "output_type": "execute_result"
    }
   ],
   "source": [
    "n_desired_edges = [2**31]\n",
    "n_desired_edges"
   ]
  },
  {
   "cell_type": "code",
   "execution_count": 7,
   "metadata": {},
   "outputs": [],
   "source": [
    "edge_prob_for_desired_nr_edges = [n / math.comb(num_nodes, 2) for n in n_desired_edges]\n",
    "# edge_prob_for_desired_nr_edges"
   ]
  },
  {
   "cell_type": "code",
   "execution_count": 8,
   "metadata": {},
   "outputs": [],
   "source": [
    "# Make sure we get (on average) the desired number of edges\n",
    "for i in range(len(n_desired_edges)):\n",
    "    assert math.comb(num_nodes, 2) * edge_prob_for_desired_nr_edges[i] == n_desired_edges[i]"
   ]
  },
  {
   "cell_type": "code",
   "execution_count": 9,
   "metadata": {},
   "outputs": [],
   "source": [
    "for edge_prob in edge_prob_for_desired_nr_edges:\n",
    "    graph = Graph.Erdos_Renyi(n=num_nodes, p=edge_prob)\n",
    "    graph.write_edgelist(\"erdos-renyi-graphs/\" + str(graph.ecount()) + \"-edges.edgelist\")"
   ]
  },
  {
   "cell_type": "markdown",
   "metadata": {},
   "source": [
    "# Create Stochastic Block Model (SBM) graphs"
   ]
  },
  {
   "cell_type": "code",
   "execution_count": null,
   "metadata": {},
   "outputs": [],
   "source": [
    "from graspologic.simulations import sbm, rdpg\n",
    "import numpy as np\n",
    "\n",
    "n_nodes_per_comm = [num_nodes // 2, num_nodes // 2]\n",
    "\n",
    "def generate_SBM_for_edges(target_edges):\n",
    "    p_11 = target_edges / (1.5 * n_nodes_per_comm[0] * n_nodes_per_comm[0])\n",
    "    p = [[p_11, 0.5 * p_11], [0.5 * p_11, p_11]]\n",
    "\n",
    "    # Check if probabilities are within valid range\n",
    "    if p_11 > 1:\n",
    "        print(f\"Error: Estimated probability exceeds 1 for target edges {target_edges}.\")\n",
    "        return None\n",
    "\n",
    "    return sbm(n=n_nodes_per_comm, p=p)\n",
    "\n",
    "# TODO Add DC-SBM\n",
    "\n",
    "def generate_RDPG_approx_edges(target_edges):\n",
    "    n_total = int(np.sqrt(target_edges))\n",
    "    latent_dim = 2\n",
    "    X = np.random.uniform(0, np.sqrt(target_edges / n_total**2), size=(n_total, latent_dim))\n",
    "\n",
    "    return rdpg(X)"
   ]
  },
  {
   "cell_type": "code",
   "execution_count": null,
   "metadata": {},
   "outputs": [],
   "source": [
    "target_edges = 2**2\n",
    "G = generate_SBM_for_edges(target_edges)"
   ]
  },
  {
   "cell_type": "code",
   "execution_count": null,
   "metadata": {},
   "outputs": [],
   "source": []
  }
 ],
 "metadata": {
  "kernelspec": {
   "display_name": "Python 3 (ipykernel)",
   "language": "python",
   "name": "python3"
  },
  "language_info": {
   "codemirror_mode": {
    "name": "ipython",
    "version": 3
   },
   "file_extension": ".py",
   "mimetype": "text/x-python",
   "name": "python",
   "nbconvert_exporter": "python",
   "pygments_lexer": "ipython3",
   "version": "3.9.6"
  }
 },
 "nbformat": 4,
 "nbformat_minor": 2
}
