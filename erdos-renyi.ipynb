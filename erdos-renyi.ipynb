{
 "cells": [
  {
   "attachments": {},
   "cell_type": "markdown",
   "metadata": {},
   "source": [
    "# Testing the various Leiden algorithms, checking Scaling using Erdos-Renyi graphs"
   ]
  },
  {
   "cell_type": "code",
   "execution_count": 25,
   "metadata": {},
   "outputs": [],
   "source": [
    "import networkx as nx\n",
    "import math\n",
    "\n",
    "num_nodes = 100000 # Can have up to 5b edges (fully-connected)\n",
    "\n",
    "edge_prob = 0.025"
   ]
  },
  {
   "cell_type": "code",
   "execution_count": 26,
   "metadata": {},
   "outputs": [
    {
     "data": {
      "text/plain": [
       "4999950000"
      ]
     },
     "execution_count": 26,
     "metadata": {},
     "output_type": "execute_result"
    }
   ],
   "source": [
    "math.comb(num_nodes, 2)"
   ]
  },
  {
   "cell_type": "code",
   "execution_count": 22,
   "metadata": {},
   "outputs": [
    {
     "data": {
      "text/plain": [
       "[8192,\n",
       " 16384,\n",
       " 32768,\n",
       " 65536,\n",
       " 131072,\n",
       " 262144,\n",
       " 524288,\n",
       " 1048576,\n",
       " 2097152,\n",
       " 4194304,\n",
       " 8388608,\n",
       " 16777216,\n",
       " 33554432,\n",
       " 67108864,\n",
       " 134217728,\n",
       " 268435456,\n",
       " 536870912,\n",
       " 1073741824]"
      ]
     },
     "execution_count": 22,
     "metadata": {},
     "output_type": "execute_result"
    }
   ],
   "source": [
    "n_desired_edges = [2**i for i in range(13,31)]\n",
    "n_desired_edges"
   ]
  },
  {
   "cell_type": "code",
   "execution_count": 27,
   "metadata": {},
   "outputs": [
    {
     "data": {
      "text/plain": [
       "[1.6384163841638416e-06,\n",
       " 3.276832768327683e-06,\n",
       " 6.553665536655366e-06,\n",
       " 1.3107331073310733e-05,\n",
       " 2.6214662146621465e-05,\n",
       " 5.242932429324293e-05,\n",
       " 0.00010485864858648586,\n",
       " 0.00020971729717297172,\n",
       " 0.00041943459434594344,\n",
       " 0.0008388691886918869,\n",
       " 0.0016777383773837738,\n",
       " 0.0033554767547675475,\n",
       " 0.006710953509535095,\n",
       " 0.01342190701907019,\n",
       " 0.02684381403814038,\n",
       " 0.05368762807628076,\n",
       " 0.10737525615256152,\n",
       " 0.21475051230512304]"
      ]
     },
     "execution_count": 27,
     "metadata": {},
     "output_type": "execute_result"
    }
   ],
   "source": [
    "edge_prob_for_desired_nr_edges = [n / math.comb(num_nodes, 2) for n in n_desired_edges]\n",
    "edge_prob_for_desired_nr_edges"
   ]
  },
  {
   "cell_type": "code",
   "execution_count": 33,
   "metadata": {},
   "outputs": [],
   "source": [
    "# Make sure we get (on average) the desired number of edges\n",
    "for i in range(len(n_desired_edges)):\n",
    "    assert math.comb(num_nodes, 2) * edge_prob_for_desired_nr_edges[i] == n_desired_edges[i]"
   ]
  },
  {
   "cell_type": "code",
   "execution_count": 18,
   "metadata": {},
   "outputs": [],
   "source": [
    "graph = nx.erdos_renyi_graph(num_nodes, edge_prob)"
   ]
  },
  {
   "cell_type": "code",
   "execution_count": 20,
   "metadata": {},
   "outputs": [
    {
     "data": {
      "text/plain": [
       "12545"
      ]
     },
     "execution_count": 20,
     "metadata": {},
     "output_type": "execute_result"
    }
   ],
   "source": [
    "graph.number_of_edges()"
   ]
  },
  {
   "cell_type": "code",
   "execution_count": null,
   "metadata": {},
   "outputs": [],
   "source": []
  }
 ],
 "metadata": {
  "kernelspec": {
   "display_name": "venv",
   "language": "python",
   "name": "python3"
  },
  "language_info": {
   "codemirror_mode": {
    "name": "ipython",
    "version": 3
   },
   "file_extension": ".py",
   "mimetype": "text/x-python",
   "name": "python",
   "nbconvert_exporter": "python",
   "pygments_lexer": "ipython3",
   "version": "3.9.6"
  },
  "orig_nbformat": 4
 },
 "nbformat": 4,
 "nbformat_minor": 2
}
