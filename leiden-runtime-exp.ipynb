{
 "cells": [
  {
   "cell_type": "code",
   "execution_count": 1,
   "id": "67ab6d4a-9f18-4b52-aec7-759731d3b800",
   "metadata": {
    "is_executing": true
   },
   "outputs": [
    {
     "name": "stdout",
     "output_type": "stream",
     "text": [
      "/Users/ariellubonja/prog/Leiden-GEE-work/leiden-runtime-experiments\n"
     ]
    }
   ],
   "source": [
    "!pwd"
   ]
  },
  {
   "cell_type": "code",
   "execution_count": 2,
   "id": "4b13656c-a743-485e-8b12-a8d22c24606e",
   "metadata": {},
   "outputs": [
    {
     "name": "stdout",
     "output_type": "stream",
     "text": [
      "/Users/ariellubonja/prog/Leiden-GEE-work\n"
     ]
    }
   ],
   "source": [
    "%cd .."
   ]
  },
  {
   "attachments": {},
   "cell_type": "markdown",
   "id": "12252dc8",
   "metadata": {},
   "source": [
    "# Using Real Graphs -  loading is pretty slow"
   ]
  },
  {
   "cell_type": "code",
   "execution_count": null,
   "id": "a4b62212-2534-417c-a0c3-f66c83f67c79",
   "metadata": {
    "scrolled": true
   },
   "outputs": [],
   "source": [
    "import networkx as nx\n",
    "import igraph as ig\n",
    "import leidenalg\n",
    "\n",
    "# G = np.loadtxt(\"carey-tsg-graphs/edgelist-msr-n32277-T24-forRB2.csv\", delimiter=',')\n",
    "graph = nx.read_weighted_edgelist(\"carey-tsg-graphs/edgelist-msr-n32277-T24-forRB2.csv\", delimiter=\",\")\n",
    "\n",
    "G = ig.Graph.from_networkx(graph)"
   ]
  },
  {
   "cell_type": "code",
   "execution_count": null,
   "id": "cbdf0249-fbae-44b3-b1c1-64812caf3130",
   "metadata": {},
   "outputs": [],
   "source": [
    "%%timeit # Time how long it takes to load graph\n",
    "\n",
    "nx.read_weighted_edgelist(\"carey-tsg-graphs/edgelist-msr-n32277-T24-forRB2.csv\", delimiter=\",\")\n",
    "ig.Graph.from_networkx(graph)"
   ]
  },
  {
   "attachments": {},
   "cell_type": "markdown",
   "id": "34696750-7b1c-42f6-af1a-d4d4cbc3ecb3",
   "metadata": {},
   "source": [
    "### Largest"
   ]
  },
  {
   "cell_type": "code",
   "execution_count": 5,
   "id": "a4864041-3659-4a6d-a3dc-24a1ef266d6a",
   "metadata": {
    "scrolled": true
   },
   "outputs": [
    {
     "name": "stdout",
     "output_type": "stream",
     "text": [
      "22.4 s ± 3.57 s per loop (mean ± std. dev. of 7 runs, 1 loop each)\n"
     ]
    }
   ],
   "source": [
    "%%timeit\n",
    "\n",
    "partition = leidenalg.find_partition(G, leidenalg.ModularityVertexPartition)"
   ]
  },
  {
   "attachments": {},
   "cell_type": "markdown",
   "id": "0fb40284-0ebb-4818-9c12-7083fb4772b5",
   "metadata": {},
   "source": [
    "### Enron"
   ]
  },
  {
   "cell_type": "code",
   "execution_count": null,
   "id": "bc00298f-75ee-4277-af5b-569a6067f005",
   "metadata": {},
   "outputs": [],
   "source": [
    "%%timeit # Time how long it takes to load graph\n",
    "\n",
    "nx.read_weighted_edgelist(\"carey-tsg-graphs/edgelist-enron-n184-forRB2.csv\", delimiter=\",\")\n",
    "ig.Graph.from_networkx(graph)"
   ]
  },
  {
   "cell_type": "code",
   "execution_count": 8,
   "id": "f660c2e0-7ae7-460d-8fd2-79dba9c1e684",
   "metadata": {
    "scrolled": true
   },
   "outputs": [],
   "source": [
    "enron = ig.Graph.from_networkx(nx.read_weighted_edgelist(\"carey-tsg-graphs/edgelist-enron-n184-forRB2.csv\", delimiter=\",\"))"
   ]
  },
  {
   "cell_type": "code",
   "execution_count": 9,
   "id": "2783a293-ccd4-41fd-8c2e-4e9ea0c71c2c",
   "metadata": {},
   "outputs": [
    {
     "name": "stdout",
     "output_type": "stream",
     "text": [
      "6.76 µs ± 54.8 ns per loop (mean ± std. dev. of 7 runs, 100,000 loops each)\n"
     ]
    }
   ],
   "source": [
    "%%timeit\n",
    "\n",
    "partition = leidenalg.find_partition(enron, leidenalg.ModularityVertexPartition)"
   ]
  },
  {
   "attachments": {},
   "cell_type": "markdown",
   "id": "3cb4993b-1292-4333-aafa-29d72c2eef45",
   "metadata": {},
   "source": [
    "### n500"
   ]
  },
  {
   "cell_type": "code",
   "execution_count": null,
   "id": "23e1921a-0886-4f20-82d2-25c130dd8749",
   "metadata": {},
   "outputs": [],
   "source": [
    "%%timeit # Time how long it takes to load graph\n",
    "\n",
    "nx.read_weighted_edgelist(\"carey-tsg-graphs/edgelist-n500-T40-forRB2.csv\", delimiter=\",\")\n",
    "ig.Graph.from_networkx(graph)"
   ]
  },
  {
   "cell_type": "code",
   "execution_count": 11,
   "id": "ff9dedad-fe2e-46aa-bc0f-85407fe6ef9d",
   "metadata": {},
   "outputs": [],
   "source": [
    "n500 = ig.Graph.from_networkx(nx.read_weighted_edgelist(\"carey-tsg-graphs/edgelist-n500-T40-forRB2.csv\", delimiter=\",\"))"
   ]
  },
  {
   "cell_type": "code",
   "execution_count": 12,
   "id": "077c6ecc-6061-4d6e-9220-77acae060356",
   "metadata": {},
   "outputs": [
    {
     "name": "stdout",
     "output_type": "stream",
     "text": [
      "27.8 ms ± 544 µs per loop (mean ± std. dev. of 7 runs, 10 loops each)\n"
     ]
    }
   ],
   "source": [
    "%%timeit\n",
    "\n",
    "partition = leidenalg.find_partition(n500, leidenalg.ModularityVertexPartition)"
   ]
  },
  {
   "attachments": {},
   "cell_type": "markdown",
   "id": "b3c46390-8c52-4ed1-833d-0c286c2b922b",
   "metadata": {},
   "source": [
    "## Networkit:ParallelLeiden"
   ]
  },
  {
   "attachments": {},
   "cell_type": "markdown",
   "id": "6a51dc33-1f6a-413a-a1ec-b22a38b4a9fe",
   "metadata": {},
   "source": [
    "### MSR graph - 1.2GB"
   ]
  },
  {
   "cell_type": "code",
   "execution_count": null,
   "id": "fda662c5-3aa8-47b1-90ac-b0c9f58c3a6e",
   "metadata": {},
   "outputs": [],
   "source": [
    "!pip3 install networkit"
   ]
  },
  {
   "cell_type": "code",
   "execution_count": null,
   "id": "b371d60f-734a-49b0-a66a-d77198127df5",
   "metadata": {},
   "outputs": [],
   "source": [
    "import networkit as nk"
   ]
  },
  {
   "cell_type": "code",
   "execution_count": null,
   "id": "4ade04e1-32b0-4eb1-925b-73ec69fe30ef",
   "metadata": {},
   "outputs": [],
   "source": [
    "# Not sure why this library wants to know the ID of the first node. It's required arg\n",
    "G = nk.graphio.readGraph(\"carey-tsg-graphs/edgelist-msr-n32277-T24-forRB2.csv\", nk.Format.EdgeList, separator=',', firstNode=1)\n",
    "\n",
    "print(G.numberOfNodes(), \"nodes\")\n",
    "print(G.numberOfEdges(), \"edges\")"
   ]
  },
  {
   "cell_type": "code",
   "execution_count": null,
   "id": "d0c91d7d-8d85-4721-a37c-2a72f4db7ec7",
   "metadata": {},
   "outputs": [],
   "source": [
    "%%timeit\n",
    "pl = nk.community.ParallelLeiden(G)\n",
    "\n",
    "pl.run()"
   ]
  },
  {
   "cell_type": "code",
   "execution_count": null,
   "id": "a31975c8-e3d9-4451-b86b-598f746390ee",
   "metadata": {},
   "outputs": [],
   "source": [
    "help(nk.community.ParallelLeiden)"
   ]
  },
  {
   "cell_type": "code",
   "execution_count": null,
   "id": "80d03ad8-26a7-479a-ab8c-33b6e0d6fda2",
   "metadata": {},
   "outputs": [],
   "source": [
    "partition = pl.getPartition()"
   ]
  },
  {
   "cell_type": "code",
   "execution_count": null,
   "id": "fd3a0354-c25d-46b9-bbe5-79b6b3cf500c",
   "metadata": {},
   "outputs": [],
   "source": [
    "partition.subsetSizes()"
   ]
  },
  {
   "attachments": {},
   "cell_type": "markdown",
   "id": "f08d8984-0a23-42b5-a397-79d84bfbde01",
   "metadata": {},
   "source": [
    "### Enron graph"
   ]
  },
  {
   "cell_type": "code",
   "execution_count": null,
   "id": "122ca026-18b5-43f5-93de-b56affc7cdff",
   "metadata": {},
   "outputs": [],
   "source": [
    "# import numpy as np\n",
    "\n",
    "# G = np.loadtxt(\"carey-tsg-graphs/edgelist-enron-n184-forRB2.csv\", delimiter=',', dtype=int)\n",
    "\n",
    "# Find firstNode ID - needed for Networkit\n",
    "# print(np.min(G[:,0]))\n",
    "# print(np.max(G[:,1]))"
   ]
  },
  {
   "cell_type": "code",
   "execution_count": null,
   "id": "a24a2903-6f19-4d08-bba3-138b5f7dc377",
   "metadata": {},
   "outputs": [],
   "source": [
    "# Firstnode ID has to be correct! 0 for enron\n",
    "G = nk.graphio.readGraph(\"carey-tsg-graphs/edgelist-enron-n184-forRB2.csv\", nk.Format.EdgeList, separator=',', firstNode=0)\n",
    "\n",
    "print(G.numberOfNodes(), \"nodes\")\n",
    "print(G.numberOfEdges(), \"edges\")"
   ]
  },
  {
   "cell_type": "code",
   "execution_count": null,
   "id": "1f6b7de3-6671-4269-80d3-76e12ad20f97",
   "metadata": {},
   "outputs": [],
   "source": [
    "%%timeit\n",
    "pl = nk.community.ParallelLeiden(G)\n",
    "\n",
    "pl.run()"
   ]
  },
  {
   "attachments": {},
   "cell_type": "markdown",
   "id": "1021de35-2c85-4f4d-85e0-76080c78b08f",
   "metadata": {},
   "source": [
    "### n500"
   ]
  },
  {
   "cell_type": "code",
   "execution_count": null,
   "id": "52b9616a-8695-427a-a67f-5e8822e0717d",
   "metadata": {},
   "outputs": [],
   "source": [
    "# import numpy as np\n",
    "\n",
    "# G = np.loadtxt(\"carey-tsg-graphs/edgelist-n500-T40-forRB2.csv\", delimiter=',')#, dtype=int)\n",
    "\n",
    "# print(np.min(G[:,0])) # Find First Node ID\n",
    "# print(np.max(G[:,1]))"
   ]
  },
  {
   "cell_type": "code",
   "execution_count": null,
   "id": "e6bfaaca-101b-4c45-81cd-580dccc127ef",
   "metadata": {},
   "outputs": [],
   "source": [
    "G = nk.graphio.readGraph(\"carey-tsg-graphs/edgelist-n500-T40-forRB2.csv\", nk.Format.EdgeList, separator=',', firstNode=1)\n",
    "\n",
    "print(G.numberOfNodes(), \"nodes\")\n",
    "print(G.numberOfEdges(), \"edges\")"
   ]
  },
  {
   "cell_type": "code",
   "execution_count": null,
   "id": "b032bc33-3425-466f-961c-8a4bf717fe80",
   "metadata": {},
   "outputs": [],
   "source": [
    "%%timeit\n",
    "pl = nk.community.ParallelLeiden(G)\n",
    "\n",
    "pl.run()"
   ]
  },
  {
   "attachments": {},
   "cell_type": "markdown",
   "id": "04b2cea2-cb24-4a73-a1f3-d0cd103ffa8d",
   "metadata": {},
   "source": [
    "## Graph Encoder Embedding"
   ]
  },
  {
   "attachments": {},
   "cell_type": "markdown",
   "id": "c53e30de-7abe-4053-94d9-66a3de27c20c",
   "metadata": {},
   "source": [
    "#### The below sometimes works and sometimes ModuleNotFound - why?"
   ]
  },
  {
   "cell_type": "code",
   "execution_count": null,
   "id": "d8a5b766-47b2-45c6-9209-7c2f873de7ce",
   "metadata": {},
   "outputs": [],
   "source": [
    "# This is necessary for GraphEmbedding to work!\n",
    "%cd ~/prog/Leiden-GEE-work/GraphEmd/"
   ]
  },
  {
   "cell_type": "code",
   "execution_count": null,
   "id": "d92a20eb-167d-4ea1-befe-a54767b4d710",
   "metadata": {},
   "outputs": [],
   "source": [
    "!ls Main/Python"
   ]
  },
  {
   "cell_type": "code",
   "execution_count": null,
   "id": "674165f6-d03b-40f5-b259-e487b04e432f",
   "metadata": {},
   "outputs": [],
   "source": [
    "# absolute_path = '/users/ariel/prog/'\n",
    "absolute_path = '/Users/ariellubonja/prog/Leiden-GEE-work/'\n",
    "# graph_path = '/static/ariel'\n",
    "graph_path = absolute_path + '/carey-tsg-graphs'\n",
    "\n",
    "# Change this depending on your folder structure"
   ]
  },
  {
   "cell_type": "code",
   "execution_count": null,
   "id": "fdb70410-bb76-4d01-b30d-62281686ee4b",
   "metadata": {},
   "outputs": [],
   "source": [
    "%cd ~/prog"
   ]
  },
  {
   "cell_type": "code",
   "execution_count": null,
   "id": "f4e75bcb-ade2-4349-b5e2-2b3e2d4c5cdd",
   "metadata": {},
   "outputs": [],
   "source": [
    "import sys\n",
    "sys.path.append(absolute_path + 'GraphEmd/Main/Python')\n",
    "sys.path.append(absolute_path + 'GraphEmd')\n",
    "import Evaluation # GEE's Evaluation.py"
   ]
  },
  {
   "attachments": {},
   "cell_type": "markdown",
   "id": "d2763196-6823-47cd-ad65-f3086e5a2e90",
   "metadata": {},
   "source": [
    "### MSR 1.2GB"
   ]
  },
  {
   "cell_type": "code",
   "execution_count": null,
   "id": "71813faa-7146-4c10-9f84-bcdd24bbf7ac",
   "metadata": {},
   "outputs": [],
   "source": [
    "%%timeit\n",
    "\n",
    "Evaluation.loadGraph(graph_path + \"/edgelist-msr-n32277-T24-forRB2.csv\", weighted=True, randomY=True)"
   ]
  },
  {
   "cell_type": "code",
   "execution_count": null,
   "id": "f13c910e-32a8-4bdc-9205-606e8a292fe1",
   "metadata": {},
   "outputs": [],
   "source": [
    "G_edgelist, Y, n = Evaluation.loadGraph(graph_path + \"/edgelist-msr-n32277-T24-forRB2.csv\", weighted=True, randomY=True)"
   ]
  },
  {
   "cell_type": "code",
   "execution_count": null,
   "id": "369a80bb-09e2-41e5-9f50-546abb02b295",
   "metadata": {},
   "outputs": [],
   "source": [
    "%%timeit\n",
    "Z, W = Evaluation.graph_encoder_embed(G_edgelist, Y, n, Correlation = False, Laplacian = False)"
   ]
  },
  {
   "attachments": {},
   "cell_type": "markdown",
   "id": "e9c31448-12d7-4ccf-86f0-be662ec17cd6",
   "metadata": {},
   "source": [
    "### Enron"
   ]
  },
  {
   "cell_type": "code",
   "execution_count": null,
   "id": "bddc675d-ad4c-4813-8148-de4431073516",
   "metadata": {},
   "outputs": [],
   "source": [
    "G_edgelist, Y, n = Evaluation.loadGraph(graph_path + \"/carey-tsg-graphs/edgelist-enron-n184-forRB2.csv\", weighted=True, randomY=True)"
   ]
  },
  {
   "cell_type": "code",
   "execution_count": null,
   "id": "c7987afa-b927-4ac6-bf45-25113a7a3735",
   "metadata": {},
   "outputs": [],
   "source": [
    "%%timeit\n",
    "Z, W = Evaluation.graph_encoder_embed(G_edgelist, Y, n, Correlation = False, Laplacian = False)"
   ]
  },
  {
   "cell_type": "code",
   "execution_count": null,
   "id": "1d543824-f8c9-4c55-a1e8-328834c6c836",
   "metadata": {},
   "outputs": [],
   "source": [
    "!ls /static/ariel/carey-tsg-graphs"
   ]
  },
  {
   "attachments": {},
   "cell_type": "markdown",
   "id": "8c58278b-ae9d-412d-ae34-444f4c825616",
   "metadata": {},
   "source": [
    "### n500"
   ]
  },
  {
   "cell_type": "code",
   "execution_count": null,
   "id": "006a8bef-340a-44ee-a648-9833c85b70af",
   "metadata": {
    "scrolled": true
   },
   "outputs": [],
   "source": [
    "G_edgelist, Y, n = Evaluation.loadGraph(graph_path + \"/carey-tsg-graphs/edgelist-n500-T40-forRB2.csv\", weighted=True, randomY=True)"
   ]
  },
  {
   "cell_type": "code",
   "execution_count": null,
   "id": "08e24f7c-4813-43ad-8110-69e42289a1fa",
   "metadata": {},
   "outputs": [],
   "source": [
    "%%timeit\n",
    "Z, W = Evaluation.graph_encoder_embed(G_edgelist, Y, n, Correlation = False, Laplacian = False)"
   ]
  },
  {
   "cell_type": "code",
   "execution_count": null,
   "id": "dd26b2c1-64cd-4f72-a52a-0629cb4edd6a",
   "metadata": {},
   "outputs": [],
   "source": []
  }
 ],
 "metadata": {
  "kernelspec": {
   "display_name": "Python 3 (ipykernel)",
   "language": "python",
   "name": "python3"
  },
  "language_info": {
   "codemirror_mode": {
    "name": "ipython",
    "version": 3
   },
   "file_extension": ".py",
   "mimetype": "text/x-python",
   "name": "python",
   "nbconvert_exporter": "python",
   "pygments_lexer": "ipython3",
   "version": "3.9.6"
  }
 },
 "nbformat": 4,
 "nbformat_minor": 5
}
