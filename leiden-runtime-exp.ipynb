{
 "cells": [
  {
   "cell_type": "markdown",
   "id": "a97bfc26-956c-4f17-b2ea-584568600d65",
   "metadata": {},
   "source": [
    "## This loading is pretty slow"
   ]
  },
  {
   "cell_type": "code",
   "execution_count": 22,
   "id": "a4b62212-2534-417c-a0c3-f66c83f67c79",
   "metadata": {
    "scrolled": true
   },
   "outputs": [],
   "source": [
    "import networkx as nx\n",
    "import igraph as ig\n",
    "import leidenalg\n",
    "\n",
    "graph = nx.read_weighted_edgelist(\"edgelist-msr-n32277-T24-forRB2.csv\", delimiter=\",\")\n",
    "\n",
    "G = ig.Graph.from_networkx(graph)"
   ]
  },
  {
   "cell_type": "markdown",
   "id": "34696750-7b1c-42f6-af1a-d4d4cbc3ecb3",
   "metadata": {},
   "source": [
    "## Largest"
   ]
  },
  {
   "cell_type": "code",
   "execution_count": 25,
   "id": "a4864041-3659-4a6d-a3dc-24a1ef266d6a",
   "metadata": {},
   "outputs": [
    {
     "name": "stdout",
     "output_type": "stream",
     "text": [
      "1min 5s ± 6.64 s per loop (mean ± std. dev. of 7 runs, 1 loop each)\n"
     ]
    }
   ],
   "source": [
    "%%timeit\n",
    "\n",
    "partition = leidenalg.find_partition(G, leidenalg.ModularityVertexPartition)"
   ]
  },
  {
   "cell_type": "markdown",
   "id": "0fb40284-0ebb-4818-9c12-7083fb4772b5",
   "metadata": {},
   "source": [
    "## Enron"
   ]
  },
  {
   "cell_type": "code",
   "execution_count": 28,
   "id": "80ec2699-c1ae-4caa-82da-84a84a8ab45b",
   "metadata": {},
   "outputs": [],
   "source": [
    "# !tail -n +2 edgelist-enron-n184-forRB.csv > edgelist-enron-n184-forRB2.csv"
   ]
  },
  {
   "cell_type": "code",
   "execution_count": 30,
   "id": "f660c2e0-7ae7-460d-8fd2-79dba9c1e684",
   "metadata": {
    "scrolled": true
   },
   "outputs": [],
   "source": [
    "enron = ig.Graph.from_networkx(nx.read_weighted_edgelist(\"edgelist-enron-n184-forRB2.csv\", delimiter=\",\"))"
   ]
  },
  {
   "cell_type": "code",
   "execution_count": 31,
   "id": "2783a293-ccd4-41fd-8c2e-4e9ea0c71c2c",
   "metadata": {},
   "outputs": [
    {
     "name": "stdout",
     "output_type": "stream",
     "text": [
      "1.83 ms ± 56.8 µs per loop (mean ± std. dev. of 7 runs, 1,000 loops each)\n"
     ]
    }
   ],
   "source": [
    "%%timeit\n",
    "\n",
    "partition = leidenalg.find_partition(enron, leidenalg.ModularityVertexPartition)"
   ]
  },
  {
   "cell_type": "markdown",
   "id": "3cb4993b-1292-4333-aafa-29d72c2eef45",
   "metadata": {},
   "source": [
    "## n500"
   ]
  },
  {
   "cell_type": "code",
   "execution_count": 32,
   "id": "ff9dedad-fe2e-46aa-bc0f-85407fe6ef9d",
   "metadata": {},
   "outputs": [],
   "source": [
    "n500 = ig.Graph.from_networkx(nx.read_weighted_edgelist(\"edgelist-n500-T40-forRB2.csv\", delimiter=\",\"))"
   ]
  },
  {
   "cell_type": "code",
   "execution_count": 33,
   "id": "077c6ecc-6061-4d6e-9220-77acae060356",
   "metadata": {},
   "outputs": [
    {
     "name": "stdout",
     "output_type": "stream",
     "text": [
      "41.4 ms ± 375 µs per loop (mean ± std. dev. of 7 runs, 10 loops each)\n"
     ]
    }
   ],
   "source": [
    "%%timeit\n",
    "\n",
    "partition = leidenalg.find_partition(n500, leidenalg.ModularityVertexPartition)"
   ]
  },
  {
   "cell_type": "code",
   "execution_count": null,
   "id": "6f8880ec-e3c1-43d1-a4fd-e1ab78b88098",
   "metadata": {},
   "outputs": [],
   "source": []
  }
 ],
 "metadata": {
  "kernelspec": {
   "display_name": "Python 3 (ipykernel)",
   "language": "python",
   "name": "python3"
  },
  "language_info": {
   "codemirror_mode": {
    "name": "ipython",
    "version": 3
   },
   "file_extension": ".py",
   "mimetype": "text/x-python",
   "name": "python",
   "nbconvert_exporter": "python",
   "pygments_lexer": "ipython3",
   "version": "3.10.6"
  }
 },
 "nbformat": 4,
 "nbformat_minor": 5
}
