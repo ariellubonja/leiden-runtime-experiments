{
 "cells": [
  {
   "cell_type": "markdown",
   "id": "a97bfc26-956c-4f17-b2ea-584568600d65",
   "metadata": {},
   "source": [
    "## This loading is pretty slow"
   ]
  },
  {
   "cell_type": "code",
   "execution_count": 2,
   "id": "a4b62212-2534-417c-a0c3-f66c83f67c79",
   "metadata": {
    "scrolled": true
   },
   "outputs": [],
   "source": [
    "import networkx as nx\n",
    "import igraph as ig\n",
    "import leidenalg\n",
    "\n",
    "# G = np.loadtxt(\"carey-tsg-graphs/edgelist-msr-n32277-T24-forRB2.csv\", delimiter=',')"
   ]
  },
  {
   "cell_type": "code",
   "execution_count": 3,
   "id": "99e5b2a8-748d-45ff-bfd1-c0a51ba87b39",
   "metadata": {},
   "outputs": [
    {
     "name": "stdout",
     "output_type": "stream",
     "text": [
      "4min 17s ± 240 ms per loop (mean ± std. dev. of 3 runs, 1 loop each)\n"
     ]
    }
   ],
   "source": [
    "%%timeit -r 3 -n 1\n",
    "\n",
    "graph = nx.read_weighted_edgelist(\"../carey-tsg-graphs/edgelist-msr-n32277-T24-forRB2.csv\", delimiter=\",\")\n",
    "\n",
    "G = ig.Graph.from_networkx(graph)"
   ]
  },
  {
   "cell_type": "markdown",
   "id": "34696750-7b1c-42f6-af1a-d4d4cbc3ecb3",
   "metadata": {},
   "source": [
    "## Largest"
   ]
  },
  {
   "cell_type": "code",
   "execution_count": null,
   "id": "aaf62ecb-00c6-4f27-a2e9-a7d273e76f63",
   "metadata": {},
   "outputs": [],
   "source": [
    "graph = nx.read_weighted_edgelist(\"../carey-tsg-graphs/edgelist-msr-n32277-T24-forRB2.csv\", delimiter=\",\")\n",
    "\n",
    "G = ig.Graph.from_networkx(graph)"
   ]
  },
  {
   "cell_type": "code",
   "execution_count": 37,
   "id": "a4864041-3659-4a6d-a3dc-24a1ef266d6a",
   "metadata": {},
   "outputs": [
    {
     "name": "stdout",
     "output_type": "stream",
     "text": [
      "59.6 s ± 9.24 s per loop (mean ± std. dev. of 7 runs, 1 loop each)\n"
     ]
    }
   ],
   "source": [
    "%%timeit\n",
    "\n",
    "partition = leidenalg.find_partition(G, leidenalg.ModularityVertexPartition)"
   ]
  },
  {
   "cell_type": "markdown",
   "id": "0fb40284-0ebb-4818-9c12-7083fb4772b5",
   "metadata": {},
   "source": [
    "## Enron"
   ]
  },
  {
   "cell_type": "code",
   "execution_count": 28,
   "id": "80ec2699-c1ae-4caa-82da-84a84a8ab45b",
   "metadata": {},
   "outputs": [],
   "source": [
    "# !tail -n +2 edgelist-enron-n184-forRB.csv > edgelist-enron-n184-forRB2.csv"
   ]
  },
  {
   "cell_type": "code",
   "execution_count": 38,
   "id": "f660c2e0-7ae7-460d-8fd2-79dba9c1e684",
   "metadata": {
    "scrolled": true
   },
   "outputs": [],
   "source": [
    "enron = ig.Graph.from_networkx(nx.read_weighted_edgelist(\"../carey-tsg-graphs/edgelist-enron-n184-forRB2.csv\", delimiter=\",\"))"
   ]
  },
  {
   "cell_type": "code",
   "execution_count": 39,
   "id": "2783a293-ccd4-41fd-8c2e-4e9ea0c71c2c",
   "metadata": {},
   "outputs": [
    {
     "name": "stdout",
     "output_type": "stream",
     "text": [
      "1.66 ms ± 46.2 µs per loop (mean ± std. dev. of 7 runs, 1,000 loops each)\n"
     ]
    }
   ],
   "source": [
    "%%timeit\n",
    "\n",
    "partition = leidenalg.find_partition(enron, leidenalg.ModularityVertexPartition)"
   ]
  },
  {
   "cell_type": "markdown",
   "id": "3cb4993b-1292-4333-aafa-29d72c2eef45",
   "metadata": {},
   "source": [
    "## n500"
   ]
  },
  {
   "cell_type": "code",
   "execution_count": 40,
   "id": "ff9dedad-fe2e-46aa-bc0f-85407fe6ef9d",
   "metadata": {},
   "outputs": [],
   "source": [
    "n500 = ig.Graph.from_networkx(nx.read_weighted_edgelist(\"../carey-tsg-graphs/edgelist-n500-T40-forRB2.csv\", delimiter=\",\"))"
   ]
  },
  {
   "cell_type": "code",
   "execution_count": 41,
   "id": "077c6ecc-6061-4d6e-9220-77acae060356",
   "metadata": {},
   "outputs": [
    {
     "name": "stdout",
     "output_type": "stream",
     "text": [
      "38 ms ± 883 µs per loop (mean ± std. dev. of 7 runs, 10 loops each)\n"
     ]
    }
   ],
   "source": [
    "%%timeit\n",
    "\n",
    "partition = leidenalg.find_partition(n500, leidenalg.ModularityVertexPartition)"
   ]
  },
  {
   "cell_type": "markdown",
   "id": "b3c46390-8c52-4ed1-833d-0c286c2b922b",
   "metadata": {},
   "source": [
    "# Networkit:ParallelLeiden"
   ]
  },
  {
   "cell_type": "markdown",
   "id": "6a51dc33-1f6a-413a-a1ec-b22a38b4a9fe",
   "metadata": {},
   "source": [
    "## MSR graph - 1.2GB"
   ]
  },
  {
   "cell_type": "code",
   "execution_count": 5,
   "id": "b371d60f-734a-49b0-a66a-d77198127df5",
   "metadata": {},
   "outputs": [],
   "source": [
    "import networkit as nk"
   ]
  },
  {
   "cell_type": "code",
   "execution_count": 6,
   "id": "e8c5f8d6-7c13-4045-a97d-27886d24d29b",
   "metadata": {},
   "outputs": [
    {
     "name": "stdout",
     "output_type": "stream",
     "text": [
      "/home/ubuntu/prog/leiden-runtime-experiments\n"
     ]
    }
   ],
   "source": [
    "!pwd"
   ]
  },
  {
   "cell_type": "code",
   "execution_count": 7,
   "id": "8a6b798b-b418-4cc2-abf9-a49a05152b2f",
   "metadata": {},
   "outputs": [
    {
     "name": "stdout",
     "output_type": "stream",
     "text": [
      "50.9 s ± 17.9 ms per loop (mean ± std. dev. of 3 runs, 1 loop each)\n"
     ]
    }
   ],
   "source": [
    "%%timeit -r 3\n",
    "\n",
    "nk.graphio.readGraph(\"../carey-tsg-graphs/edgelist-msr-n32277-T24-forRB2.csv\", nk.Format.EdgeList, separator=',', firstNode=1)"
   ]
  },
  {
   "cell_type": "code",
   "execution_count": 29,
   "id": "4ade04e1-32b0-4eb1-925b-73ec69fe30ef",
   "metadata": {},
   "outputs": [
    {
     "name": "stdout",
     "output_type": "stream",
     "text": [
      "32277 nodes\n",
      "26630547 edges\n"
     ]
    }
   ],
   "source": [
    "# Not sure why this library wants to know the ID of the first node. It's required arg\n",
    "G = nk.graphio.readGraph(\"../carey-tsg-graphs/edgelist-msr-n32277-T24-forRB2.csv\", nk.Format.EdgeList, separator=',', firstNode=1)\n",
    "\n",
    "print(G.numberOfNodes(), \"nodes\")\n",
    "print(G.numberOfEdges(), \"edges\")"
   ]
  },
  {
   "cell_type": "code",
   "execution_count": 30,
   "id": "d0c91d7d-8d85-4721-a37c-2a72f4db7ec7",
   "metadata": {},
   "outputs": [
    {
     "name": "stdout",
     "output_type": "stream",
     "text": [
      "180 ms ± 1.14 ms per loop (mean ± std. dev. of 7 runs, 10 loops each)\n"
     ]
    }
   ],
   "source": [
    "%%timeit\n",
    "pl = nk.community.ParallelLeiden(G)\n",
    "\n",
    "pl.run()"
   ]
  },
  {
   "cell_type": "code",
   "execution_count": 13,
   "id": "80d03ad8-26a7-479a-ab8c-33b6e0d6fda2",
   "metadata": {},
   "outputs": [],
   "source": [
    "partition = pl.getPartition()"
   ]
  },
  {
   "cell_type": "code",
   "execution_count": 42,
   "id": "fd3a0354-c25d-46b9-bbe5-79b6b3cf500c",
   "metadata": {
    "scrolled": true
   },
   "outputs": [
    {
     "name": "stdout",
     "output_type": "stream",
     "text": [
      "Help on class ParallelLeiden in module networkit.community:\n",
      "\n",
      "class ParallelLeiden(CommunityDetector)\n",
      " |  ParallelLeiden(G, randomize=True, iterations=3, gamma=1)\n",
      " |  \n",
      " |  Parallel Leiden Algorithm.\n",
      " |  \n",
      " |  Parameters\n",
      " |  ----------\n",
      " |  G : networkit.Graph\n",
      " |          A graph.\n",
      " |  randomize : bool, optional\n",
      " |          Whether to randomize the node order or not. Default: True\n",
      " |  iterations : int, optional\n",
      " |          Maximum count of Leiden runs. Default: 3\n",
      " |  gamma : float, optional\n",
      " |          Multi-resolution modularity parameter: 1.0 (standard modularity), 0.0 (one community), 2m (singleton communities). Default: 1.0\n",
      " |  \n",
      " |  Method resolution order:\n",
      " |      ParallelLeiden\n",
      " |      CommunityDetector\n",
      " |      networkit.base.Algorithm\n",
      " |      builtins.object\n",
      " |  \n",
      " |  Methods defined here:\n",
      " |  \n",
      " |  __reduce__ = __reduce_cython__(...)\n",
      " |  \n",
      " |  __setstate__ = __setstate_cython__(...)\n",
      " |  \n",
      " |  ----------------------------------------------------------------------\n",
      " |  Static methods defined here:\n",
      " |  \n",
      " |  __new__(*args, **kwargs) from builtins.type\n",
      " |      Create and return a new object.  See help(type) for accurate signature.\n",
      " |  \n",
      " |  ----------------------------------------------------------------------\n",
      " |  Methods inherited from CommunityDetector:\n",
      " |  \n",
      " |  __init__(self, /, *args, **kwargs)\n",
      " |      Initialize self.  See help(type(self)) for accurate signature.\n",
      " |  \n",
      " |  getPartition(...)\n",
      " |      getPartition()\n",
      " |      \n",
      " |      Returns a partition of the clustering.\n",
      " |      \n",
      " |      Returns\n",
      " |      -------\n",
      " |      networkit.Partition\n",
      " |              A Partition of the clustering.\n",
      " |  \n",
      " |  ----------------------------------------------------------------------\n",
      " |  Methods inherited from networkit.base.Algorithm:\n",
      " |  \n",
      " |  hasFinished(...)\n",
      " |      hasFinished()\n",
      " |      \n",
      " |      States whether an algorithm has already run.\n",
      " |      \n",
      " |      Returns\n",
      " |      -------\n",
      " |      bool\n",
      " |              True if Algorithm has finished.\n",
      " |  \n",
      " |  run(...)\n",
      " |      run()\n",
      " |      \n",
      " |      Executes the algorithm.\n",
      " |      \n",
      " |      Returns\n",
      " |      -------\n",
      " |      networkit.base.Algorithm\n",
      " |              self\n",
      "\n"
     ]
    }
   ],
   "source": [
    "help(nk.community.ParallelLeiden)"
   ]
  },
  {
   "cell_type": "markdown",
   "id": "f08d8984-0a23-42b5-a397-79d84bfbde01",
   "metadata": {},
   "source": [
    "## Enron graph"
   ]
  },
  {
   "cell_type": "code",
   "execution_count": 8,
   "id": "122ca026-18b5-43f5-93de-b56affc7cdff",
   "metadata": {},
   "outputs": [],
   "source": [
    "# import numpy as np\n",
    "\n",
    "# G = np.loadtxt(\"carey-tsg-graphs/edgelist-enron-n184-forRB2.csv\", delimiter=',', dtype=int)\n",
    "\n",
    "# Find first node ID\n",
    "# print(np.min(G[:,0]))\n",
    "# print(np.max(G[:,1]))"
   ]
  },
  {
   "cell_type": "code",
   "execution_count": 31,
   "id": "a24a2903-6f19-4d08-bba3-138b5f7dc377",
   "metadata": {},
   "outputs": [
    {
     "name": "stdout",
     "output_type": "stream",
     "text": [
      "184 nodes\n",
      "2215 edges\n"
     ]
    }
   ],
   "source": [
    "# Firstnode ID has to be correct! 0 for enron\n",
    "G = nk.graphio.readGraph(\"../carey-tsg-graphs/edgelist-enron-n184-forRB2.csv\", nk.Format.EdgeList, separator=',', firstNode=0)\n",
    "\n",
    "print(G.numberOfNodes(), \"nodes\")\n",
    "print(G.numberOfEdges(), \"edges\")"
   ]
  },
  {
   "cell_type": "code",
   "execution_count": 32,
   "id": "1f6b7de3-6671-4269-80d3-76e12ad20f97",
   "metadata": {},
   "outputs": [
    {
     "name": "stdout",
     "output_type": "stream",
     "text": [
      "669 µs ± 7.02 µs per loop (mean ± std. dev. of 7 runs, 1,000 loops each)\n"
     ]
    }
   ],
   "source": [
    "%%timeit\n",
    "pl = nk.community.ParallelLeiden(G)\n",
    "\n",
    "pl.run()"
   ]
  },
  {
   "cell_type": "markdown",
   "id": "1021de35-2c85-4f4d-85e0-76080c78b08f",
   "metadata": {},
   "source": [
    "## n500"
   ]
  },
  {
   "cell_type": "code",
   "execution_count": 14,
   "id": "52b9616a-8695-427a-a67f-5e8822e0717d",
   "metadata": {},
   "outputs": [
    {
     "name": "stdout",
     "output_type": "stream",
     "text": [
      "1.0\n",
      "500.0\n"
     ]
    }
   ],
   "source": [
    "# import numpy as np\n",
    "\n",
    "# G = np.loadtxt(\"carey-tsg-graphs/edgelist-n500-T40-forRB2.csv\", delimiter=',')#, dtype=int)\n",
    "# Find first node ID\n",
    "# print(np.min(G[:,0])) # First Node ID\n",
    "# print(np.max(G[:,1]))"
   ]
  },
  {
   "cell_type": "code",
   "execution_count": 33,
   "id": "e6bfaaca-101b-4c45-81cd-580dccc127ef",
   "metadata": {},
   "outputs": [
    {
     "name": "stdout",
     "output_type": "stream",
     "text": [
      "500 nodes\n",
      "124548 edges\n"
     ]
    }
   ],
   "source": [
    "G = nk.graphio.readGraph(\"../carey-tsg-graphs/edgelist-n500-T40-forRB2.csv\", nk.Format.EdgeList, separator=',', firstNode=1)\n",
    "\n",
    "print(G.numberOfNodes(), \"nodes\")\n",
    "print(G.numberOfEdges(), \"edges\")"
   ]
  },
  {
   "cell_type": "code",
   "execution_count": 34,
   "id": "b032bc33-3425-466f-961c-8a4bf717fe80",
   "metadata": {},
   "outputs": [
    {
     "name": "stdout",
     "output_type": "stream",
     "text": [
      "6.35 ms ± 78.1 µs per loop (mean ± std. dev. of 7 runs, 100 loops each)\n"
     ]
    }
   ],
   "source": [
    "%%timeit\n",
    "pl = nk.community.ParallelLeiden(G)\n",
    "\n",
    "pl.run()"
   ]
  },
  {
   "cell_type": "markdown",
   "id": "04b2cea2-cb24-4a73-a1f3-d0cd103ffa8d",
   "metadata": {},
   "source": [
    "# Graph Encoder Embedding"
   ]
  },
  {
   "cell_type": "code",
   "execution_count": 1,
   "id": "b9d9ebc7-8662-498b-b87e-2f7f88d3c26e",
   "metadata": {},
   "outputs": [
    {
     "name": "stdout",
     "output_type": "stream",
     "text": [
      "Benchmarks.ipynb   Encode.py\t  Hyperperameters.py  __init__.py  tests\n",
      "Clustering.py\t   Evaluation.py  LDA.py\t      __pycache__  utils\n",
      "DataPreprocess.py  GNN.py\t  Run.py\t      setup.py\n"
     ]
    }
   ],
   "source": [
    "!ls ~/prog/GraphEmd/Main/Python"
   ]
  },
  {
   "cell_type": "code",
   "execution_count": 2,
   "id": "d466e82c-3c0b-4862-a0a3-54099af55719",
   "metadata": {},
   "outputs": [
    {
     "name": "stdout",
     "output_type": "stream",
     "text": [
      "/home/ubuntu/prog/leiden-runtime-experiments\n"
     ]
    }
   ],
   "source": [
    "!pwd"
   ]
  },
  {
   "cell_type": "markdown",
   "id": "c53e30de-7abe-4053-94d9-66a3de27c20c",
   "metadata": {},
   "source": [
    "#### The below sometimes works and sometimes ModuleNotFound - why?"
   ]
  },
  {
   "cell_type": "code",
   "execution_count": 3,
   "id": "94e33c5a-0e2e-40e6-b438-4bc40b6127b9",
   "metadata": {},
   "outputs": [
    {
     "name": "stdout",
     "output_type": "stream",
     "text": [
      "/home/ubuntu/prog/leiden-runtime-experiments\n"
     ]
    }
   ],
   "source": [
    "!pwd"
   ]
  },
  {
   "cell_type": "code",
   "execution_count": 4,
   "id": "674165f6-d03b-40f5-b259-e487b04e432f",
   "metadata": {},
   "outputs": [],
   "source": [
    "# Only absolute paths work\n",
    "\n",
    "# absolute_path = '/users/ariel/prog/'\n",
    "absolute_path = '/home/ubuntu/prog/'\n",
    "graph_path = '/home/ubuntu/prog/'\n",
    "# graph_path = '/static/ariel'\n",
    "\n",
    "# Change this depending on your folder structure"
   ]
  },
  {
   "cell_type": "code",
   "execution_count": 5,
   "id": "c8b9cd5e-a820-4a2d-b661-478524136a06",
   "metadata": {},
   "outputs": [
    {
     "name": "stdout",
     "output_type": "stream",
     "text": [
      "/home/ubuntu/prog/GraphEmd/Main/Python\n"
     ]
    }
   ],
   "source": [
    "print(absolute_path + 'GraphEmd/Main/Python')"
   ]
  },
  {
   "cell_type": "code",
   "execution_count": 6,
   "id": "f4e75bcb-ade2-4349-b5e2-2b3e2d4c5cdd",
   "metadata": {},
   "outputs": [],
   "source": [
    "import sys\n",
    "sys.path.append(absolute_path + 'GraphEmd/Main/Python')\n",
    "import Evaluation # GEE's Evaluation.py"
   ]
  },
  {
   "cell_type": "markdown",
   "id": "d2763196-6823-47cd-ad65-f3086e5a2e90",
   "metadata": {},
   "source": [
    "## MSR 1.2GB"
   ]
  },
  {
   "cell_type": "code",
   "execution_count": 7,
   "id": "cb8a91e4-c5a4-4e4d-a592-e3d7ed8c5391",
   "metadata": {},
   "outputs": [
    {
     "name": "stdout",
     "output_type": "stream",
     "text": [
      "Loading /home/ubuntu/prog//carey-tsg-graphs/edgelist-msr-n32277-T24-forRB2.csv\n",
      "Loading /home/ubuntu/prog//carey-tsg-graphs/edgelist-msr-n32277-T24-forRB2.csv\n",
      "Loading /home/ubuntu/prog//carey-tsg-graphs/edgelist-msr-n32277-T24-forRB2.csv\n",
      "Loading /home/ubuntu/prog//carey-tsg-graphs/edgelist-msr-n32277-T24-forRB2.csv\n",
      "Loading /home/ubuntu/prog//carey-tsg-graphs/edgelist-msr-n32277-T24-forRB2.csv\n",
      "Loading /home/ubuntu/prog//carey-tsg-graphs/edgelist-msr-n32277-T24-forRB2.csv\n",
      "Loading /home/ubuntu/prog//carey-tsg-graphs/edgelist-msr-n32277-T24-forRB2.csv\n",
      "Loading /home/ubuntu/prog//carey-tsg-graphs/edgelist-msr-n32277-T24-forRB2.csv\n",
      "12.7 s ± 21.2 ms per loop (mean ± std. dev. of 7 runs, 1 loop each)\n"
     ]
    }
   ],
   "source": [
    "%%timeit\n",
    "Evaluation.loadGraph(graph_path + \"/carey-tsg-graphs/edgelist-msr-n32277-T24-forRB2.csv\", weighted=True, randomY=True)"
   ]
  },
  {
   "cell_type": "code",
   "execution_count": 15,
   "id": "f13c910e-32a8-4bdc-9205-606e8a292fe1",
   "metadata": {},
   "outputs": [
    {
     "name": "stdout",
     "output_type": "stream",
     "text": [
      "Loading /home/ubuntu/prog//carey-tsg-graphs/edgelist-msr-n32277-T24-forRB2.csv\n"
     ]
    }
   ],
   "source": [
    "G_edgelist, Y, n = Evaluation.loadGraph(graph_path + \"/carey-tsg-graphs/edgelist-msr-n32277-T24-forRB2.csv\", weighted=True, randomY=True)"
   ]
  },
  {
   "cell_type": "code",
   "execution_count": 16,
   "id": "369a80bb-09e2-41e5-9f50-546abb02b295",
   "metadata": {},
   "outputs": [
    {
     "name": "stdout",
     "output_type": "stream",
     "text": [
      "537 ms ± 2.85 ms per loop (mean ± std. dev. of 7 runs, 1 loop each)\n"
     ]
    }
   ],
   "source": [
    "%%timeit\n",
    "Z, W = Evaluation.graph_encoder_embed(G_edgelist, Y, n, Correlation = False, Laplacian = False)"
   ]
  },
  {
   "cell_type": "markdown",
   "id": "e9c31448-12d7-4ccf-86f0-be662ec17cd6",
   "metadata": {},
   "source": [
    "## Enron"
   ]
  },
  {
   "cell_type": "code",
   "execution_count": 17,
   "id": "bddc675d-ad4c-4813-8148-de4431073516",
   "metadata": {},
   "outputs": [
    {
     "name": "stdout",
     "output_type": "stream",
     "text": [
      "Loading /home/ubuntu/prog//carey-tsg-graphs/edgelist-enron-n184-forRB2.csv\n"
     ]
    }
   ],
   "source": [
    "G_edgelist, Y, n = Evaluation.loadGraph(graph_path + \"/carey-tsg-graphs/edgelist-enron-n184-forRB2.csv\", weighted=True, randomY=True)"
   ]
  },
  {
   "cell_type": "code",
   "execution_count": 18,
   "id": "c7987afa-b927-4ac6-bf45-25113a7a3735",
   "metadata": {},
   "outputs": [
    {
     "name": "stdout",
     "output_type": "stream",
     "text": [
      "1.44 ms ± 1.26 µs per loop (mean ± std. dev. of 7 runs, 1,000 loops each)\n"
     ]
    }
   ],
   "source": [
    "%%timeit\n",
    "Z, W = Evaluation.graph_encoder_embed(G_edgelist, Y, n, Correlation = False, Laplacian = False)"
   ]
  },
  {
   "cell_type": "code",
   "execution_count": 9,
   "id": "1d543824-f8c9-4c55-a1e8-328834c6c836",
   "metadata": {},
   "outputs": [
    {
     "name": "stdout",
     "output_type": "stream",
     "text": [
      "edgelist-enron-n184-forRB2.csv\t    edgelist-n500-T40-forRB2.csv\n",
      "edgelist-msr-n32277-T24-forRB2.csv\n"
     ]
    }
   ],
   "source": [
    "!ls /static/ariel/carey-tsg-graphs"
   ]
  },
  {
   "cell_type": "markdown",
   "id": "8c58278b-ae9d-412d-ae34-444f4c825616",
   "metadata": {},
   "source": [
    "## n500"
   ]
  },
  {
   "cell_type": "code",
   "execution_count": 19,
   "id": "006a8bef-340a-44ee-a648-9833c85b70af",
   "metadata": {
    "scrolled": true
   },
   "outputs": [
    {
     "name": "stdout",
     "output_type": "stream",
     "text": [
      "Loading /home/ubuntu/prog//carey-tsg-graphs/edgelist-n500-T40-forRB2.csv\n"
     ]
    }
   ],
   "source": [
    "G_edgelist, Y, n = Evaluation.loadGraph(graph_path + \"/carey-tsg-graphs/edgelist-n500-T40-forRB2.csv\", weighted=True, randomY=True)"
   ]
  },
  {
   "cell_type": "code",
   "execution_count": 20,
   "id": "08e24f7c-4813-43ad-8110-69e42289a1fa",
   "metadata": {},
   "outputs": [
    {
     "name": "stdout",
     "output_type": "stream",
     "text": [
      "8.03 ms ± 37.6 µs per loop (mean ± std. dev. of 7 runs, 100 loops each)\n"
     ]
    }
   ],
   "source": [
    "%%timeit\n",
    "Z, W = Evaluation.graph_encoder_embed(G_edgelist, Y, n, Correlation = False, Laplacian = False)"
   ]
  },
  {
   "cell_type": "code",
   "execution_count": null,
   "id": "dd26b2c1-64cd-4f72-a52a-0629cb4edd6a",
   "metadata": {},
   "outputs": [],
   "source": []
  }
 ],
 "metadata": {
  "kernelspec": {
   "display_name": "Python 3 (ipykernel)",
   "language": "python",
   "name": "python3"
  },
  "language_info": {
   "codemirror_mode": {
    "name": "ipython",
    "version": 3
   },
   "file_extension": ".py",
   "mimetype": "text/x-python",
   "name": "python",
   "nbconvert_exporter": "python",
   "pygments_lexer": "ipython3",
   "version": "3.10.6"
  }
 },
 "nbformat": 4,
 "nbformat_minor": 5
}
