{
 "cells": [
  {
   "cell_type": "markdown",
   "id": "a97bfc26-956c-4f17-b2ea-584568600d65",
   "metadata": {},
   "source": [
    "## This loading is pretty slow"
   ]
  },
  {
   "cell_type": "code",
   "execution_count": 22,
   "id": "a4b62212-2534-417c-a0c3-f66c83f67c79",
   "metadata": {
    "scrolled": true
   },
   "outputs": [],
   "source": [
    "import networkx as nx\n",
    "import igraph as ig\n",
    "import leidenalg\n",
    "\n",
    "# G = np.loadtxt(\"carey-tsg-graphs/edgelist-msr-n32277-T24-forRB2.csv\", delimiter=',')\n",
    "graph = nx.read_weighted_edgelist(\"carey-tsg-graphs/edgelist-msr-n32277-T24-forRB2.csv\", delimiter=\",\")\n",
    "\n",
    "G = ig.Graph.from_networkx(graph)"
   ]
  },
  {
   "cell_type": "markdown",
   "id": "34696750-7b1c-42f6-af1a-d4d4cbc3ecb3",
   "metadata": {},
   "source": [
    "## Largest"
   ]
  },
  {
   "cell_type": "code",
   "execution_count": 25,
   "id": "a4864041-3659-4a6d-a3dc-24a1ef266d6a",
   "metadata": {},
   "outputs": [
    {
     "name": "stdout",
     "output_type": "stream",
     "text": [
      "1min 5s ± 6.64 s per loop (mean ± std. dev. of 7 runs, 1 loop each)\n"
     ]
    }
   ],
   "source": [
    "%%timeit\n",
    "\n",
    "partition = leidenalg.find_partition(G, leidenalg.ModularityVertexPartition)"
   ]
  },
  {
   "cell_type": "markdown",
   "id": "0fb40284-0ebb-4818-9c12-7083fb4772b5",
   "metadata": {},
   "source": [
    "## Enron"
   ]
  },
  {
   "cell_type": "code",
   "execution_count": 28,
   "id": "80ec2699-c1ae-4caa-82da-84a84a8ab45b",
   "metadata": {},
   "outputs": [],
   "source": [
    "# !tail -n +2 edgelist-enron-n184-forRB.csv > edgelist-enron-n184-forRB2.csv"
   ]
  },
  {
   "cell_type": "code",
   "execution_count": 30,
   "id": "f660c2e0-7ae7-460d-8fd2-79dba9c1e684",
   "metadata": {
    "scrolled": true
   },
   "outputs": [],
   "source": [
    "enron = ig.Graph.from_networkx(nx.read_weighted_edgelist(\"edgelist-enron-n184-forRB2.csv\", delimiter=\",\"))"
   ]
  },
  {
   "cell_type": "code",
   "execution_count": 31,
   "id": "2783a293-ccd4-41fd-8c2e-4e9ea0c71c2c",
   "metadata": {},
   "outputs": [
    {
     "name": "stdout",
     "output_type": "stream",
     "text": [
      "1.83 ms ± 56.8 µs per loop (mean ± std. dev. of 7 runs, 1,000 loops each)\n"
     ]
    }
   ],
   "source": [
    "%%timeit\n",
    "\n",
    "partition = leidenalg.find_partition(enron, leidenalg.ModularityVertexPartition)"
   ]
  },
  {
   "cell_type": "markdown",
   "id": "3cb4993b-1292-4333-aafa-29d72c2eef45",
   "metadata": {},
   "source": [
    "## n500"
   ]
  },
  {
   "cell_type": "code",
   "execution_count": 32,
   "id": "ff9dedad-fe2e-46aa-bc0f-85407fe6ef9d",
   "metadata": {},
   "outputs": [],
   "source": [
    "n500 = ig.Graph.from_networkx(nx.read_weighted_edgelist(\"edgelist-n500-T40-forRB2.csv\", delimiter=\",\"))"
   ]
  },
  {
   "cell_type": "code",
   "execution_count": 33,
   "id": "077c6ecc-6061-4d6e-9220-77acae060356",
   "metadata": {},
   "outputs": [
    {
     "name": "stdout",
     "output_type": "stream",
     "text": [
      "41.4 ms ± 375 µs per loop (mean ± std. dev. of 7 runs, 10 loops each)\n"
     ]
    }
   ],
   "source": [
    "%%timeit\n",
    "\n",
    "partition = leidenalg.find_partition(n500, leidenalg.ModularityVertexPartition)"
   ]
  },
  {
   "cell_type": "markdown",
   "id": "b3c46390-8c52-4ed1-833d-0c286c2b922b",
   "metadata": {},
   "source": [
    "# Networkit:ParallelLeiden"
   ]
  },
  {
   "cell_type": "markdown",
   "id": "6a51dc33-1f6a-413a-a1ec-b22a38b4a9fe",
   "metadata": {},
   "source": [
    "## MSR graph - 1.2GB"
   ]
  },
  {
   "cell_type": "code",
   "execution_count": 1,
   "id": "b371d60f-734a-49b0-a66a-d77198127df5",
   "metadata": {},
   "outputs": [
    {
     "data": {
      "text/html": [
       "\n",
       "\t\t\t<script type=\"text/javascript\">\n",
       "\t\t\t<!--\n",
       "\t\t\t\t\n",
       "\t\t\t{\n",
       "\t\t\t\tvar element = document.getElementById('NetworKit_script');\n",
       "\t\t\t\tif (element) {\n",
       "\t\t\t\t\telement.parentNode.removeChild(element);\n",
       "\t\t\t\t}\n",
       "\t\t\t\telement = document.createElement('script');\n",
       "\t\t\t\telement.type = 'text/javascript';\n",
       "\t\t\t\telement.innerHTML = 'function NetworKit_pageEmbed(id) { var i, j; var elements; elements = document.getElementById(id).getElementsByClassName(\"Plot\"); for (i=0; i<elements.length; i++) { elements[i].id = id + \"_Plot_\" + i; var data = elements[i].getAttribute(\"data-image\").split(\"|\"); elements[i].removeAttribute(\"data-image\"); var content = \"<div class=\\\\\"Image\\\\\" id=\\\\\"\" + elements[i].id + \"_Image\\\\\" />\"; elements[i].innerHTML = content; elements[i].setAttribute(\"data-image-index\", 0); elements[i].setAttribute(\"data-image-length\", data.length); for (j=0; j<data.length; j++) { elements[i].setAttribute(\"data-image-\" + j, data[j]); } NetworKit_plotUpdate(elements[i]); elements[i].onclick = function (e) { NetworKit_overlayShow((e.target) ? e.target : e.srcElement); } } elements = document.getElementById(id).getElementsByClassName(\"HeatCell\"); for (i=0; i<elements.length; i++) { var data = parseFloat(elements[i].getAttribute(\"data-heat\")); var color = \"#00FF00\"; if (data <= 1 && data > 0) { color = \"hsla(0, 100%, 75%, \" + (data) + \")\"; } else if (data <= 0 && data >= -1) { color = \"hsla(240, 100%, 75%, \" + (-data) + \")\"; } elements[i].style.backgroundColor = color; } elements = document.getElementById(id).getElementsByClassName(\"Details\"); for (i=0; i<elements.length; i++) { elements[i].setAttribute(\"data-title\", \"-\"); NetworKit_toggleDetails(elements[i]); elements[i].onclick = function (e) { NetworKit_toggleDetails((e.target) ? e.target : e.srcElement); } } elements = document.getElementById(id).getElementsByClassName(\"MathValue\"); for (i=elements.length-1; i>=0; i--) { value = elements[i].innerHTML.trim(); if (value === \"nan\") { elements[i].parentNode.innerHTML = \"\" } } elements = document.getElementById(id).getElementsByClassName(\"SubCategory\"); for (i=elements.length-1; i>=0; i--) { value = elements[i].innerHTML.trim(); if (value === \"\") { elements[i].parentNode.removeChild(elements[i]) } } elements = document.getElementById(id).getElementsByClassName(\"Category\"); for (i=elements.length-1; i>=0; i--) { value = elements[i].innerHTML.trim(); if (value === \"\") { elements[i].parentNode.removeChild(elements[i]) } } var isFirefox = false; try { isFirefox = typeof InstallTrigger !== \"undefined\"; } catch (e) {} if (!isFirefox) { alert(\"Currently the function\\'s output is only fully supported by Firefox.\"); } } function NetworKit_plotUpdate(source) { var index = source.getAttribute(\"data-image-index\"); var data = source.getAttribute(\"data-image-\" + index); var image = document.getElementById(source.id + \"_Image\"); image.style.backgroundImage = \"url(\" + data + \")\"; } function NetworKit_showElement(id, show) { var element = document.getElementById(id); element.style.display = (show) ? \"block\" : \"none\"; } function NetworKit_overlayShow(source) { NetworKit_overlayUpdate(source); NetworKit_showElement(\"NetworKit_Overlay\", true); } function NetworKit_overlayUpdate(source) { document.getElementById(\"NetworKit_Overlay_Title\").innerHTML = source.title; var index = source.getAttribute(\"data-image-index\"); var data = source.getAttribute(\"data-image-\" + index); var image = document.getElementById(\"NetworKit_Overlay_Image\"); image.setAttribute(\"data-id\", source.id); image.style.backgroundImage = \"url(\" + data + \")\"; var link = document.getElementById(\"NetworKit_Overlay_Toolbar_Bottom_Save\"); link.href = data; link.download = source.title + \".svg\"; } function NetworKit_overlayImageShift(delta) { var image = document.getElementById(\"NetworKit_Overlay_Image\"); var source = document.getElementById(image.getAttribute(\"data-id\")); var index = parseInt(source.getAttribute(\"data-image-index\")); var length = parseInt(source.getAttribute(\"data-image-length\")); var index = (index+delta) % length; if (index < 0) { index = length + index; } source.setAttribute(\"data-image-index\", index); NetworKit_overlayUpdate(source); } function NetworKit_toggleDetails(source) { var childs = source.children; var show = false; if (source.getAttribute(\"data-title\") == \"-\") { source.setAttribute(\"data-title\", \"+\"); show = false; } else { source.setAttribute(\"data-title\", \"-\"); show = true; } for (i=0; i<childs.length; i++) { if (show) { childs[i].style.display = \"block\"; } else { childs[i].style.display = \"none\"; } } }';\n",
       "\t\t\t\telement.setAttribute('id', 'NetworKit_script');\n",
       "\t\t\t\tdocument.head.appendChild(element);\n",
       "\t\t\t}\n",
       "\t\t\n",
       "\t\t\t\t\n",
       "\t\t\t{\n",
       "\t\t\t\tvar element = document.getElementById('NetworKit_style');\n",
       "\t\t\t\tif (element) {\n",
       "\t\t\t\t\telement.parentNode.removeChild(element);\n",
       "\t\t\t\t}\n",
       "\t\t\t\telement = document.createElement('style');\n",
       "\t\t\t\telement.type = 'text/css';\n",
       "\t\t\t\telement.innerHTML = '.NetworKit_Page { font-family: Arial, Helvetica, sans-serif; font-size: 14px; } .NetworKit_Page .Value:before { font-family: Arial, Helvetica, sans-serif; font-size: 1.05em; content: attr(data-title) \":\"; margin-left: -2.5em; padding-right: 0.5em; } .NetworKit_Page .Details .Value:before { display: block; } .NetworKit_Page .Value { font-family: monospace; white-space: pre; padding-left: 2.5em; white-space: -moz-pre-wrap !important; white-space: -pre-wrap; white-space: -o-pre-wrap; white-space: pre-wrap; word-wrap: break-word; tab-size: 4; -moz-tab-size: 4; } .NetworKit_Page .Category { clear: both; padding-left: 1em; margin-bottom: 1.5em; } .NetworKit_Page .Category:before { content: attr(data-title); font-size: 1.75em; display: block; margin-left: -0.8em; margin-bottom: 0.5em; } .NetworKit_Page .SubCategory { margin-bottom: 1.5em; padding-left: 1em; } .NetworKit_Page .SubCategory:before { font-size: 1.6em; display: block; margin-left: -0.8em; margin-bottom: 0.5em; } .NetworKit_Page .SubCategory[data-title]:before { content: attr(data-title); } .NetworKit_Page .Block { display: block; } .NetworKit_Page .Block:after { content: \".\"; visibility: hidden; display: block; height: 0; clear: both; } .NetworKit_Page .Block .Thumbnail_Overview, .NetworKit_Page .Block .Thumbnail_ScatterPlot { width: 260px; float: left; } .NetworKit_Page .Block .Thumbnail_Overview img, .NetworKit_Page .Block .Thumbnail_ScatterPlot img { width: 260px; } .NetworKit_Page .Block .Thumbnail_Overview:before, .NetworKit_Page .Block .Thumbnail_ScatterPlot:before { display: block; text-align: center; font-weight: bold; } .NetworKit_Page .Block .Thumbnail_Overview:before { content: attr(data-title); } .NetworKit_Page .HeatCell { font-family: \"Courier New\", Courier, monospace; cursor: pointer; } .NetworKit_Page .HeatCell, .NetworKit_Page .HeatCellName { display: inline; padding: 0.1em; margin-right: 2px; background-color: #FFFFFF } .NetworKit_Page .HeatCellName { margin-left: 0.25em; } .NetworKit_Page .HeatCell:before { content: attr(data-heat); display: inline-block; color: #000000; width: 4em; text-align: center; } .NetworKit_Page .Measure { clear: both; } .NetworKit_Page .Measure .Details { cursor: pointer; } .NetworKit_Page .Measure .Details:before { content: \"[\" attr(data-title) \"]\"; display: block; } .NetworKit_Page .Measure .Details .Value { border-left: 1px dotted black; margin-left: 0.4em; padding-left: 3.5em; pointer-events: none; } .NetworKit_Page .Measure .Details .Spacer:before { content: \".\"; opacity: 0.0; pointer-events: none; } .NetworKit_Page .Measure .Plot { width: 440px; height: 440px; cursor: pointer; float: left; margin-left: -0.9em; margin-right: 20px; } .NetworKit_Page .Measure .Plot .Image { background-repeat: no-repeat; background-position: center center; background-size: contain; height: 100%; pointer-events: none; } .NetworKit_Page .Measure .Stat { width: 500px; float: left; } .NetworKit_Page .Measure .Stat .Group { padding-left: 1.25em; margin-bottom: 0.75em; } .NetworKit_Page .Measure .Stat .Group .Title { font-size: 1.1em; display: block; margin-bottom: 0.3em; margin-left: -0.75em; border-right-style: dotted; border-right-width: 1px; border-bottom-style: dotted; border-bottom-width: 1px; background-color: #D0D0D0; padding-left: 0.2em; } .NetworKit_Page .Measure .Stat .Group .List { -webkit-column-count: 3; -moz-column-count: 3; column-count: 3; } .NetworKit_Page .Measure .Stat .Group .List .Entry { position: relative; line-height: 1.75em; } .NetworKit_Page .Measure .Stat .Group .List .Entry[data-tooltip]:before { position: absolute; left: 0; top: -40px; background-color: #808080; color: #ffffff; height: 30px; line-height: 30px; border-radius: 5px; padding: 0 15px; content: attr(data-tooltip); white-space: nowrap; display: none; } .NetworKit_Page .Measure .Stat .Group .List .Entry[data-tooltip]:after { position: absolute; left: 15px; top: -10px; border-top: 7px solid #808080; border-left: 7px solid transparent; border-right: 7px solid transparent; content: \"\"; display: none; } .NetworKit_Page .Measure .Stat .Group .List .Entry[data-tooltip]:hover:after, .NetworKit_Page .Measure .Stat .Group .List .Entry[data-tooltip]:hover:before { display: block; } .NetworKit_Page .Measure .Stat .Group .List .Entry .MathValue { font-family: \"Courier New\", Courier, monospace; } .NetworKit_Page .Measure:after { content: \".\"; visibility: hidden; display: block; height: 0; clear: both; } .NetworKit_Page .PartitionPie { clear: both; } .NetworKit_Page .PartitionPie img { width: 600px; } #NetworKit_Overlay { left: 0px; top: 0px; display: none; position: absolute; width: 100%; height: 100%; background-color: rgba(0,0,0,0.6); z-index: 1000; } #NetworKit_Overlay_Title { position: absolute; color: white; transform: rotate(-90deg); width: 32em; height: 32em; padding-right: 0.5em; padding-top: 0.5em; text-align: right; font-size: 40px; } #NetworKit_Overlay .button { background: white; cursor: pointer; } #NetworKit_Overlay .button:before { size: 13px; display: inline-block; text-align: center; margin-top: 0.5em; margin-bottom: 0.5em; width: 1.5em; height: 1.5em; } #NetworKit_Overlay .icon-close:before { content: \"X\"; } #NetworKit_Overlay .icon-previous:before { content: \"P\"; } #NetworKit_Overlay .icon-next:before { content: \"N\"; } #NetworKit_Overlay .icon-save:before { content: \"S\"; } #NetworKit_Overlay_Toolbar_Top, #NetworKit_Overlay_Toolbar_Bottom { position: absolute; width: 40px; right: 13px; text-align: right; z-index: 1100; } #NetworKit_Overlay_Toolbar_Top { top: 0.5em; } #NetworKit_Overlay_Toolbar_Bottom { Bottom: 0.5em; } #NetworKit_Overlay_ImageContainer { position: absolute; top: 5%; left: 5%; height: 90%; width: 90%; background-repeat: no-repeat; background-position: center center; background-size: contain; } #NetworKit_Overlay_Image { height: 100%; width: 100%; background-repeat: no-repeat; background-position: center center; background-size: contain; }';\n",
       "\t\t\t\telement.setAttribute('id', 'NetworKit_style');\n",
       "\t\t\t\tdocument.head.appendChild(element);\n",
       "\t\t\t}\n",
       "\t\t\n",
       "\t\t\t\t\n",
       "\t\t\t{\n",
       "\t\t\t\tvar element = document.getElementById('NetworKit_Overlay');\n",
       "\t\t\t\tif (element) {\n",
       "\t\t\t\t\telement.parentNode.removeChild(element);\n",
       "\t\t\t\t}\n",
       "\t\t\t\telement = document.createElement('div');\n",
       "\t\t\t\telement.innerHTML = '<div id=\"NetworKit_Overlay_Toolbar_Top\"><div class=\"button icon-close\" id=\"NetworKit_Overlay_Close\" /></div><div id=\"NetworKit_Overlay_Title\" /> <div id=\"NetworKit_Overlay_ImageContainer\"> <div id=\"NetworKit_Overlay_Image\" /> </div> <div id=\"NetworKit_Overlay_Toolbar_Bottom\"> <div class=\"button icon-previous\" onclick=\"NetworKit_overlayImageShift(-1)\" /> <div class=\"button icon-next\" onclick=\"NetworKit_overlayImageShift(1)\" /> <a id=\"NetworKit_Overlay_Toolbar_Bottom_Save\"><div class=\"button icon-save\" /></a> </div>';\n",
       "\t\t\t\telement.setAttribute('id', 'NetworKit_Overlay');\n",
       "\t\t\t\tdocument.body.appendChild(element);\n",
       "\t\t\t\tdocument.getElementById('NetworKit_Overlay_Close').onclick = function (e) {\n",
       "\t\t\t\t\tdocument.getElementById('NetworKit_Overlay').style.display = 'none';\n",
       "\t\t\t\t}\n",
       "\t\t\t}\n",
       "\t\t\n",
       "\t\t\t-->\n",
       "\t\t\t</script>\n",
       "\t\t"
      ]
     },
     "metadata": {},
     "output_type": "display_data"
    }
   ],
   "source": [
    "import networkit as nk"
   ]
  },
  {
   "cell_type": "code",
   "execution_count": 17,
   "id": "4ade04e1-32b0-4eb1-925b-73ec69fe30ef",
   "metadata": {},
   "outputs": [
    {
     "name": "stdout",
     "output_type": "stream",
     "text": [
      "32277 nodes\n",
      "26630547 edges\n"
     ]
    }
   ],
   "source": [
    "# Not sure why this library wants to know the ID of the first node. It's required arg\n",
    "G = nk.graphio.readGraph(\"carey-tsg-graphs/edgelist-msr-n32277-T24-forRB2.csv\", nk.Format.EdgeList, separator=',', firstNode=1)\n",
    "\n",
    "print(G.numberOfNodes(), \"nodes\")\n",
    "print(G.numberOfEdges(), \"edges\")"
   ]
  },
  {
   "cell_type": "code",
   "execution_count": 18,
   "id": "d0c91d7d-8d85-4721-a37c-2a72f4db7ec7",
   "metadata": {},
   "outputs": [
    {
     "name": "stdout",
     "output_type": "stream",
     "text": [
      "1.09 s ± 32.2 ms per loop (mean ± std. dev. of 7 runs, 1 loop each)\n"
     ]
    }
   ],
   "source": [
    "%%timeit\n",
    "pl = nk.community.ParallelLeiden(G)\n",
    "\n",
    "pl.run()"
   ]
  },
  {
   "cell_type": "code",
   "execution_count": 13,
   "id": "80d03ad8-26a7-479a-ab8c-33b6e0d6fda2",
   "metadata": {},
   "outputs": [],
   "source": [
    "partition = pl.getPartition()"
   ]
  },
  {
   "cell_type": "code",
   "execution_count": 19,
   "id": "fd3a0354-c25d-46b9-bbe5-79b6b3cf500c",
   "metadata": {},
   "outputs": [
    {
     "data": {
      "text/plain": [
       "[2266,\n",
       " 382,\n",
       " 1083,\n",
       " 5755,\n",
       " 3414,\n",
       " 2796,\n",
       " 335,\n",
       " 1468,\n",
       " 603,\n",
       " 1102,\n",
       " 1173,\n",
       " 7281,\n",
       " 785,\n",
       " 45,\n",
       " 3789]"
      ]
     },
     "execution_count": 19,
     "metadata": {},
     "output_type": "execute_result"
    }
   ],
   "source": [
    "partition.subsetSizes()"
   ]
  },
  {
   "cell_type": "markdown",
   "id": "f08d8984-0a23-42b5-a397-79d84bfbde01",
   "metadata": {},
   "source": [
    "## Enron graph"
   ]
  },
  {
   "cell_type": "code",
   "execution_count": 8,
   "id": "122ca026-18b5-43f5-93de-b56affc7cdff",
   "metadata": {},
   "outputs": [],
   "source": [
    "import numpy as np\n",
    "\n",
    "G = np.loadtxt(\"carey-tsg-graphs/edgelist-enron-n184-forRB2.csv\", delimiter=',', dtype=int)"
   ]
  },
  {
   "cell_type": "code",
   "execution_count": 9,
   "id": "68519cb2-cda9-43f1-8964-f11d401dd909",
   "metadata": {},
   "outputs": [
    {
     "name": "stdout",
     "output_type": "stream",
     "text": [
      "0\n",
      "183\n"
     ]
    }
   ],
   "source": [
    "print(np.min(G[:,0]))\n",
    "print(np.max(G[:,1]))"
   ]
  },
  {
   "cell_type": "code",
   "execution_count": 19,
   "id": "a24a2903-6f19-4d08-bba3-138b5f7dc377",
   "metadata": {},
   "outputs": [
    {
     "name": "stdout",
     "output_type": "stream",
     "text": [
      "184 nodes\n",
      "2215 edges\n"
     ]
    }
   ],
   "source": [
    "# Firstnode ID has to be correct! 0 for enron\n",
    "G = nk.graphio.readGraph(\"carey-tsg-graphs/edgelist-enron-n184-forRB2.csv\", nk.Format.EdgeList, separator=',', firstNode=0)\n",
    "\n",
    "print(G.numberOfNodes(), \"nodes\")\n",
    "print(G.numberOfEdges(), \"edges\")"
   ]
  },
  {
   "cell_type": "code",
   "execution_count": 11,
   "id": "1f6b7de3-6671-4269-80d3-76e12ad20f97",
   "metadata": {},
   "outputs": [
    {
     "name": "stdout",
     "output_type": "stream",
     "text": [
      "400 ms ± 23 ms per loop (mean ± std. dev. of 7 runs, 1 loop each)\n"
     ]
    }
   ],
   "source": [
    "%%timeit\n",
    "pl = nk.community.ParallelLeiden(G)\n",
    "\n",
    "pl.run()"
   ]
  },
  {
   "cell_type": "markdown",
   "id": "1021de35-2c85-4f4d-85e0-76080c78b08f",
   "metadata": {},
   "source": [
    "## n500"
   ]
  },
  {
   "cell_type": "code",
   "execution_count": 14,
   "id": "52b9616a-8695-427a-a67f-5e8822e0717d",
   "metadata": {},
   "outputs": [
    {
     "name": "stdout",
     "output_type": "stream",
     "text": [
      "1.0\n",
      "500.0\n"
     ]
    }
   ],
   "source": [
    "import numpy as np\n",
    "\n",
    "G = np.loadtxt(\"carey-tsg-graphs/edgelist-n500-T40-forRB2.csv\", delimiter=',')#, dtype=int)\n",
    "\n",
    "print(np.min(G[:,0])) # First Node ID\n",
    "print(np.max(G[:,1]))"
   ]
  },
  {
   "cell_type": "code",
   "execution_count": 20,
   "id": "e6bfaaca-101b-4c45-81cd-580dccc127ef",
   "metadata": {},
   "outputs": [
    {
     "name": "stdout",
     "output_type": "stream",
     "text": [
      "500 nodes\n",
      "124548 edges\n"
     ]
    }
   ],
   "source": [
    "G = nk.graphio.readGraph(\"carey-tsg-graphs/edgelist-n500-T40-forRB2.csv\", nk.Format.EdgeList, separator=',', firstNode=1)\n",
    "\n",
    "print(G.numberOfNodes(), \"nodes\")\n",
    "print(G.numberOfEdges(), \"edges\")"
   ]
  },
  {
   "cell_type": "code",
   "execution_count": 16,
   "id": "b032bc33-3425-466f-961c-8a4bf717fe80",
   "metadata": {},
   "outputs": [
    {
     "name": "stdout",
     "output_type": "stream",
     "text": [
      "424 ms ± 20.2 ms per loop (mean ± std. dev. of 7 runs, 1 loop each)\n"
     ]
    }
   ],
   "source": [
    "%%timeit\n",
    "pl = nk.community.ParallelLeiden(G)\n",
    "\n",
    "pl.run()"
   ]
  },
  {
   "cell_type": "markdown",
   "id": "04b2cea2-cb24-4a73-a1f3-d0cd103ffa8d",
   "metadata": {},
   "source": [
    "# Graph Encoder Embedding"
   ]
  },
  {
   "cell_type": "code",
   "execution_count": 1,
   "id": "b9d9ebc7-8662-498b-b87e-2f7f88d3c26e",
   "metadata": {},
   "outputs": [
    {
     "name": "stdout",
     "output_type": "stream",
     "text": [
      "Benchmarks.ipynb   Encode.py\t  Hyperperameters.py  __pycache__  tests\n",
      "Clustering.py\t   Evaluation.py  __init__.py\t      Run.py\t   utils\n",
      "DataPreprocess.py  GNN.py\t  LDA.py\t      setup.py\n"
     ]
    }
   ],
   "source": [
    "!ls ~/prog/GraphEmd/Main/Python"
   ]
  },
  {
   "cell_type": "code",
   "execution_count": 2,
   "id": "d466e82c-3c0b-4862-a0a3-54099af55719",
   "metadata": {},
   "outputs": [
    {
     "name": "stdout",
     "output_type": "stream",
     "text": [
      "/users/ariel/prog/leiden-runtime-experiments\n"
     ]
    }
   ],
   "source": [
    "!pwd"
   ]
  },
  {
   "cell_type": "markdown",
   "id": "c53e30de-7abe-4053-94d9-66a3de27c20c",
   "metadata": {},
   "source": [
    "#### The below sometimes works and sometimes ModuleNotFound - why?"
   ]
  },
  {
   "cell_type": "code",
   "execution_count": 1,
   "id": "674165f6-d03b-40f5-b259-e487b04e432f",
   "metadata": {},
   "outputs": [],
   "source": [
    "absolute_path = '/users/ariel/prog/'\n",
    "graph_path = '/static/ariel'\n",
    "\n",
    "# Change this depending on your folder structure"
   ]
  },
  {
   "cell_type": "code",
   "execution_count": 2,
   "id": "f4e75bcb-ade2-4349-b5e2-2b3e2d4c5cdd",
   "metadata": {},
   "outputs": [],
   "source": [
    "import sys\n",
    "sys.path.append(absolute_path + 'GraphEmd/Main/Python')\n",
    "import Evaluation # GEE's Evaluation.py"
   ]
  },
  {
   "cell_type": "code",
   "execution_count": 3,
   "id": "8440d7ee-64f5-47ed-9dab-27524a1f9553",
   "metadata": {},
   "outputs": [
    {
     "name": "stdout",
     "output_type": "stream",
     "text": [
      "edgelist-enron-n184-forRB2.csv\t    edgelist-n500-T40-forRB2.csv\n",
      "edgelist-msr-n32277-T24-forRB2.csv\n"
     ]
    }
   ],
   "source": [
    "!ls /static/ariel/carey-tsg-graphs"
   ]
  },
  {
   "cell_type": "markdown",
   "id": "d2763196-6823-47cd-ad65-f3086e5a2e90",
   "metadata": {},
   "source": [
    "## MSR 1.2GB"
   ]
  },
  {
   "cell_type": "code",
   "execution_count": null,
   "id": "f13c910e-32a8-4bdc-9205-606e8a292fe1",
   "metadata": {},
   "outputs": [
    {
     "name": "stdout",
     "output_type": "stream",
     "text": [
      "Loading /static/ariel/carey-tsg-graphs/edgelist-msr-n32277-T24-forRB2.csv\n"
     ]
    }
   ],
   "source": [
    "G_edgelist, Y, n = Evaluation.loadGraph(graph_path + \"/carey-tsg-graphs/edgelist-msr-n32277-T24-forRB2.csv\", weighted=True, randomY=True)"
   ]
  },
  {
   "cell_type": "code",
   "execution_count": null,
   "id": "369a80bb-09e2-41e5-9f50-546abb02b295",
   "metadata": {},
   "outputs": [],
   "source": [
    "%%timeit\n",
    "Z, W = Evaluation.graph_encoder_embed(G_edgelist, Y, n, Correlation = False, Laplacian = False)"
   ]
  },
  {
   "cell_type": "markdown",
   "id": "e9c31448-12d7-4ccf-86f0-be662ec17cd6",
   "metadata": {},
   "source": [
    "## Enron"
   ]
  },
  {
   "cell_type": "code",
   "execution_count": 10,
   "id": "bddc675d-ad4c-4813-8148-de4431073516",
   "metadata": {},
   "outputs": [
    {
     "name": "stdout",
     "output_type": "stream",
     "text": [
      "Loading /static/ariel/carey-tsg-graphs/edgelist-enron-n184-forRB2.csv\n"
     ]
    }
   ],
   "source": [
    "G_edgelist, Y, n = Evaluation.loadGraph(graph_path + \"/carey-tsg-graphs/edgelist-enron-n184-forRB2.csv\", weighted=True, randomY=True)"
   ]
  },
  {
   "cell_type": "code",
   "execution_count": 11,
   "id": "c7987afa-b927-4ac6-bf45-25113a7a3735",
   "metadata": {},
   "outputs": [
    {
     "name": "stdout",
     "output_type": "stream",
     "text": [
      "3.24 ms ± 1.83 ms per loop (mean ± std. dev. of 7 runs, 100 loops each)\n"
     ]
    }
   ],
   "source": [
    "%%timeit\n",
    "Z, W = Evaluation.graph_encoder_embed(G_edgelist, Y, n, Correlation = False, Laplacian = False)"
   ]
  },
  {
   "cell_type": "code",
   "execution_count": 9,
   "id": "1d543824-f8c9-4c55-a1e8-328834c6c836",
   "metadata": {},
   "outputs": [
    {
     "name": "stdout",
     "output_type": "stream",
     "text": [
      "edgelist-enron-n184-forRB2.csv\t    edgelist-n500-T40-forRB2.csv\n",
      "edgelist-msr-n32277-T24-forRB2.csv\n"
     ]
    }
   ],
   "source": [
    "!ls /static/ariel/carey-tsg-graphs"
   ]
  },
  {
   "cell_type": "markdown",
   "id": "8c58278b-ae9d-412d-ae34-444f4c825616",
   "metadata": {},
   "source": [
    "## n500"
   ]
  },
  {
   "cell_type": "code",
   "execution_count": 6,
   "id": "006a8bef-340a-44ee-a648-9833c85b70af",
   "metadata": {
    "scrolled": true
   },
   "outputs": [
    {
     "name": "stdout",
     "output_type": "stream",
     "text": [
      "Loading /static/ariel/carey-tsg-graphs/edgelist-n500-T40-forRB2.csv\n"
     ]
    }
   ],
   "source": [
    "G_edgelist, Y, n = Evaluation.loadGraph(graph_path + \"/carey-tsg-graphs/edgelist-n500-T40-forRB2.csv\", weighted=True, randomY=True)"
   ]
  },
  {
   "cell_type": "code",
   "execution_count": 8,
   "id": "08e24f7c-4813-43ad-8110-69e42289a1fa",
   "metadata": {},
   "outputs": [
    {
     "name": "stdout",
     "output_type": "stream",
     "text": [
      "16 ms ± 4.4 ms per loop (mean ± std. dev. of 7 runs, 10 loops each)\n"
     ]
    }
   ],
   "source": [
    "%%timeit\n",
    "Z, W = Evaluation.graph_encoder_embed(G_edgelist, Y, n, Correlation = False, Laplacian = False)"
   ]
  },
  {
   "cell_type": "code",
   "execution_count": null,
   "id": "dd26b2c1-64cd-4f72-a52a-0629cb4edd6a",
   "metadata": {},
   "outputs": [],
   "source": []
  }
 ],
 "metadata": {
  "kernelspec": {
   "display_name": "Python 3 (ipykernel)",
   "language": "python",
   "name": "python3"
  },
  "language_info": {
   "codemirror_mode": {
    "name": "ipython",
    "version": 3
   },
   "file_extension": ".py",
   "mimetype": "text/x-python",
   "name": "python",
   "nbconvert_exporter": "python",
   "pygments_lexer": "ipython3",
   "version": "3.10.9"
  }
 },
 "nbformat": 4,
 "nbformat_minor": 5
}
