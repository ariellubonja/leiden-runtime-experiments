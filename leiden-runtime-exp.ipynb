{
 "cells": [
  {
   "cell_type": "markdown",
   "id": "a97bfc26-956c-4f17-b2ea-584568600d65",
   "metadata": {},
   "source": [
    "## This loading is pretty slow"
   ]
  },
  {
   "cell_type": "code",
   "execution_count": 22,
   "id": "a4b62212-2534-417c-a0c3-f66c83f67c79",
   "metadata": {
    "scrolled": true
   },
   "outputs": [],
   "source": [
    "import networkx as nx\n",
    "import igraph as ig\n",
    "import leidenalg\n",
    "\n",
    "# G = np.loadtxt(\"carey-tsg-graphs/edgelist-msr-n32277-T24-forRB2.csv\", delimiter=',')\n",
    "graph = nx.read_weighted_edgelist(\"carey-tsg-graphs/edgelist-msr-n32277-T24-forRB2.csv\", delimiter=\",\")\n",
    "\n",
    "G = ig.Graph.from_networkx(graph)"
   ]
  },
  {
   "cell_type": "markdown",
   "id": "34696750-7b1c-42f6-af1a-d4d4cbc3ecb3",
   "metadata": {},
   "source": [
    "## Largest"
   ]
  },
  {
   "cell_type": "code",
   "execution_count": 25,
   "id": "a4864041-3659-4a6d-a3dc-24a1ef266d6a",
   "metadata": {},
   "outputs": [
    {
     "name": "stdout",
     "output_type": "stream",
     "text": [
      "1min 5s ± 6.64 s per loop (mean ± std. dev. of 7 runs, 1 loop each)\n"
     ]
    }
   ],
   "source": [
    "%%timeit\n",
    "\n",
    "partition = leidenalg.find_partition(G, leidenalg.ModularityVertexPartition)"
   ]
  },
  {
   "cell_type": "markdown",
   "id": "0fb40284-0ebb-4818-9c12-7083fb4772b5",
   "metadata": {},
   "source": [
    "## Enron"
   ]
  },
  {
   "cell_type": "code",
   "execution_count": 28,
   "id": "80ec2699-c1ae-4caa-82da-84a84a8ab45b",
   "metadata": {},
   "outputs": [],
   "source": [
    "# !tail -n +2 edgelist-enron-n184-forRB.csv > edgelist-enron-n184-forRB2.csv"
   ]
  },
  {
   "cell_type": "code",
   "execution_count": 30,
   "id": "f660c2e0-7ae7-460d-8fd2-79dba9c1e684",
   "metadata": {
    "scrolled": true
   },
   "outputs": [],
   "source": [
    "enron = ig.Graph.from_networkx(nx.read_weighted_edgelist(\"edgelist-enron-n184-forRB2.csv\", delimiter=\",\"))"
   ]
  },
  {
   "cell_type": "code",
   "execution_count": 31,
   "id": "2783a293-ccd4-41fd-8c2e-4e9ea0c71c2c",
   "metadata": {},
   "outputs": [
    {
     "name": "stdout",
     "output_type": "stream",
     "text": [
      "1.83 ms ± 56.8 µs per loop (mean ± std. dev. of 7 runs, 1,000 loops each)\n"
     ]
    }
   ],
   "source": [
    "%%timeit\n",
    "\n",
    "partition = leidenalg.find_partition(enron, leidenalg.ModularityVertexPartition)"
   ]
  },
  {
   "cell_type": "markdown",
   "id": "3cb4993b-1292-4333-aafa-29d72c2eef45",
   "metadata": {},
   "source": [
    "## n500"
   ]
  },
  {
   "cell_type": "code",
   "execution_count": 32,
   "id": "ff9dedad-fe2e-46aa-bc0f-85407fe6ef9d",
   "metadata": {},
   "outputs": [],
   "source": [
    "n500 = ig.Graph.from_networkx(nx.read_weighted_edgelist(\"edgelist-n500-T40-forRB2.csv\", delimiter=\",\"))"
   ]
  },
  {
   "cell_type": "code",
   "execution_count": 33,
   "id": "077c6ecc-6061-4d6e-9220-77acae060356",
   "metadata": {},
   "outputs": [
    {
     "name": "stdout",
     "output_type": "stream",
     "text": [
      "41.4 ms ± 375 µs per loop (mean ± std. dev. of 7 runs, 10 loops each)\n"
     ]
    }
   ],
   "source": [
    "%%timeit\n",
    "\n",
    "partition = leidenalg.find_partition(n500, leidenalg.ModularityVertexPartition)"
   ]
  },
  {
   "cell_type": "markdown",
   "id": "b3c46390-8c52-4ed1-833d-0c286c2b922b",
   "metadata": {},
   "source": [
    "# Networkit:ParallelLeiden"
   ]
  },
  {
   "cell_type": "code",
   "execution_count": 11,
   "id": "4ade04e1-32b0-4eb1-925b-73ec69fe30ef",
   "metadata": {},
   "outputs": [
    {
     "name": "stdout",
     "output_type": "stream",
     "text": [
      "32277 nodes\n",
      "26630547 edges\n"
     ]
    }
   ],
   "source": [
    "import networkit as nk\n",
    "\n",
    "# Not sure why this library wants to know the ID of the first node. It's required arg\n",
    "G = nk.graphio.readGraph(\"carey-tsg-graphs/edgelist-msr-n32277-T24-forRB2.csv\", nk.Format.EdgeList, separator=',', firstNode=1)\n",
    "\n",
    "print(G.numberOfNodes(), \"nodes\")\n",
    "print(G.numberOfEdges(), \"edges\")"
   ]
  },
  {
   "cell_type": "code",
   "execution_count": 20,
   "id": "d0c91d7d-8d85-4721-a37c-2a72f4db7ec7",
   "metadata": {},
   "outputs": [
    {
     "name": "stdout",
     "output_type": "stream",
     "text": [
      "607 ms ± 29.2 ms per loop (mean ± std. dev. of 7 runs, 1 loop each)\n"
     ]
    }
   ],
   "source": [
    "%%timeit\n",
    "pl = nk.community.ParallelLeiden(G)\n",
    "\n",
    "pl.run()"
   ]
  },
  {
   "cell_type": "code",
   "execution_count": 13,
   "id": "80d03ad8-26a7-479a-ab8c-33b6e0d6fda2",
   "metadata": {},
   "outputs": [],
   "source": [
    "partition = pl.getPartition()"
   ]
  },
  {
   "cell_type": "code",
   "execution_count": 19,
   "id": "fd3a0354-c25d-46b9-bbe5-79b6b3cf500c",
   "metadata": {},
   "outputs": [
    {
     "data": {
      "text/plain": [
       "[2266,\n",
       " 382,\n",
       " 1083,\n",
       " 5755,\n",
       " 3414,\n",
       " 2796,\n",
       " 335,\n",
       " 1468,\n",
       " 603,\n",
       " 1102,\n",
       " 1173,\n",
       " 7281,\n",
       " 785,\n",
       " 45,\n",
       " 3789]"
      ]
     },
     "execution_count": 19,
     "metadata": {},
     "output_type": "execute_result"
    }
   ],
   "source": [
    "partition.subsetSizes()"
   ]
  },
  {
   "cell_type": "code",
   "execution_count": 16,
   "id": "d8bb77cc-f12f-4a22-8aee-5e0fabbbf8c1",
   "metadata": {
    "scrolled": true
   },
   "outputs": [
    {
     "data": {
      "text/plain": [
       "['__class__',\n",
       " '__copy__',\n",
       " '__deepcopy__',\n",
       " '__delattr__',\n",
       " '__delitem__',\n",
       " '__dir__',\n",
       " '__doc__',\n",
       " '__eq__',\n",
       " '__format__',\n",
       " '__ge__',\n",
       " '__getattribute__',\n",
       " '__getitem__',\n",
       " '__gt__',\n",
       " '__hash__',\n",
       " '__init__',\n",
       " '__init_subclass__',\n",
       " '__le__',\n",
       " '__len__',\n",
       " '__lt__',\n",
       " '__ne__',\n",
       " '__new__',\n",
       " '__pyx_vtable__',\n",
       " '__reduce__',\n",
       " '__reduce_ex__',\n",
       " '__repr__',\n",
       " '__setattr__',\n",
       " '__setitem__',\n",
       " '__setstate__',\n",
       " '__sizeof__',\n",
       " '__str__',\n",
       " '__subclasshook__',\n",
       " 'addToSubset',\n",
       " 'allToSingletons',\n",
       " 'compact',\n",
       " 'contains',\n",
       " 'extend',\n",
       " 'getMembers',\n",
       " 'getName',\n",
       " 'getSubsetIds',\n",
       " 'getVector',\n",
       " 'inSameSubset',\n",
       " 'lowerBound',\n",
       " 'mergeSubsets',\n",
       " 'moveToSubset',\n",
       " 'numberOfElements',\n",
       " 'numberOfSubsets',\n",
       " 'setName',\n",
       " 'setUpperBound',\n",
       " 'subsetOf',\n",
       " 'subsetSizeMap',\n",
       " 'subsetSizes',\n",
       " 'toSingleton',\n",
       " 'upperBound']"
      ]
     },
     "execution_count": 16,
     "metadata": {},
     "output_type": "execute_result"
    }
   ],
   "source": [
    "dir(partition)"
   ]
  },
  {
   "cell_type": "markdown",
   "id": "04b2cea2-cb24-4a73-a1f3-d0cd103ffa8d",
   "metadata": {},
   "source": [
    "# Graph Encoder Embedding"
   ]
  },
  {
   "cell_type": "code",
   "execution_count": 43,
   "id": "f4e75bcb-ade2-4349-b5e2-2b3e2d4c5cdd",
   "metadata": {},
   "outputs": [],
   "source": [
    "import sys\n",
    "sys.path.append('../GraphEmd/Main/Python')\n",
    "import Evaluation # GEE's Evaluation.py"
   ]
  },
  {
   "cell_type": "code",
   "execution_count": 44,
   "id": "006a8bef-340a-44ee-a648-9833c85b70af",
   "metadata": {},
   "outputs": [
    {
     "name": "stdout",
     "output_type": "stream",
     "text": [
      "Loading /home/ariel/prog/leiden-runtime-experiments/carey-tsg-graphs/edgelist-msr-n32277-T24-forRB2.csv\n"
     ]
    },
    {
     "ename": "TypeError",
     "evalue": "'numpy.float64' object cannot be interpreted as an integer",
     "output_type": "error",
     "traceback": [
      "\u001b[0;31m---------------------------------------------------------------------------\u001b[0m",
      "\u001b[0;31mTypeError\u001b[0m                                 Traceback (most recent call last)",
      "Cell \u001b[0;32mIn [44], line 1\u001b[0m\n\u001b[0;32m----> 1\u001b[0m G_edgelist, Y, n \u001b[38;5;241m=\u001b[39m \u001b[43mloadGraph\u001b[49m\u001b[43m(\u001b[49m\u001b[38;5;124;43m\"\u001b[39;49m\u001b[38;5;124;43m/home/ariel/prog/leiden-runtime-experiments/carey-tsg-graphs/edgelist-msr-n32277-T24-forRB2.csv\u001b[39;49m\u001b[38;5;124;43m\"\u001b[39;49m\u001b[43m,\u001b[49m\u001b[43m \u001b[49m\u001b[43mweighted\u001b[49m\u001b[38;5;241;43m=\u001b[39;49m\u001b[38;5;28;43;01mTrue\u001b[39;49;00m\u001b[43m,\u001b[49m\u001b[43m \u001b[49m\u001b[43mrandomY\u001b[49m\u001b[38;5;241;43m=\u001b[39;49m\u001b[38;5;28;43;01mTrue\u001b[39;49;00m\u001b[43m)\u001b[49m\n",
      "File \u001b[0;32m<string>:81\u001b[0m, in \u001b[0;36mloadGraph\u001b[0;34m(filepath, weighted, randomY, yPath)\u001b[0m\n",
      "File \u001b[0;32mmtrand.pyx:748\u001b[0m, in \u001b[0;36mnumpy.random.mtrand.RandomState.randint\u001b[0;34m()\u001b[0m\n",
      "File \u001b[0;32m_bounded_integers.pyx:1256\u001b[0m, in \u001b[0;36mnumpy.random._bounded_integers._rand_int64\u001b[0;34m()\u001b[0m\n",
      "\u001b[0;31mTypeError\u001b[0m: 'numpy.float64' object cannot be interpreted as an integer"
     ]
    }
   ],
   "source": [
    "G_edgelist, Y, n = loadGraph(\"/home/ariel/prog/leiden-runtime-experiments/carey-tsg-graphs/edgelist-msr-n32277-T24-forRB2.csv\", weighted=True, randomY=True)"
   ]
  },
  {
   "cell_type": "code",
   "execution_count": null,
   "id": "08e24f7c-4813-43ad-8110-69e42289a1fa",
   "metadata": {},
   "outputs": [],
   "source": [
    "Z, W = graph_encoder_embed(G_edgelist, Y, n, Correlation = False, Laplacian = False)"
   ]
  },
  {
   "cell_type": "code",
   "execution_count": 45,
   "id": "8c6471bf-95d5-4a9b-a6bd-5c5ea4a31c08",
   "metadata": {},
   "outputs": [],
   "source": [
    "filepath = \"/home/ariel/prog/leiden-runtime-experiments/carey-tsg-graphs/edgelist-msr-n32277-T24-forRB2.csv\"\n",
    "weighted=True\n",
    "randomY=True"
   ]
  },
  {
   "cell_type": "code",
   "execution_count": 47,
   "id": "e1b91afd-07e3-440e-8edd-6148f911d6bd",
   "metadata": {},
   "outputs": [
    {
     "name": "stdout",
     "output_type": "stream",
     "text": [
      "Loading /home/ariel/prog/leiden-runtime-experiments/carey-tsg-graphs/edgelist-msr-n32277-T24-forRB2.csv\n"
     ]
    }
   ],
   "source": [
    "print(\"Loading \" + filepath)\n",
    "\n",
    "G_edgelist = np.loadtxt(filepath, delimiter=\",\")"
   ]
  },
  {
   "cell_type": "code",
   "execution_count": 56,
   "id": "e6676490-9da5-4d8b-9f05-ecbda55ea1d6",
   "metadata": {},
   "outputs": [],
   "source": [
    "\n",
    "if not weighted:\n",
    "# Add column of ones - weights\n",
    "    G_edgelist = np.hstack((G_edgelist, np.ones((G_edgelist.shape[0], 1))))\n",
    "\n",
    "n = int(np.max(G_edgelist[:,1]) + 1) # Nr. vertices\n",
    "\n",
    "if randomY: # Efficient Vector operations\n",
    "    n_nodes = int(max(np.max(G_edgelist[:,1]), np.max(G_edgelist[:,0]))) + 1\n",
    "    # create some ground truth\n",
    "    labels = np.random.randint(low=0, high=50, size=(n_nodes,1))\n",
    "    # Remove 90% of them by assigning -1\n",
    "    bern = np.random.binomial(1, 0.1, size=(n_nodes,1))\n",
    "    Y = labels * bern\n",
    "    # Subtract 1\n",
    "    Y -= 1\n",
    "\n",
    "    # Make sure to assign 1 value to be maxvalue i.e. 49 (50-1) in Y - GEE uses max(Y) to set embedding size!\n",
    "    Y[0]=49\n",
    "else:\n",
    "    Y = np.load(yPath)"
   ]
  },
  {
   "cell_type": "code",
   "execution_count": 57,
   "id": "920786e7-23da-4566-b775-7c3a861939bf",
   "metadata": {},
   "outputs": [],
   "source": [
    "Z, W = graph_encoder_embed(G_edgelist, Y, n, Correlation = False, Laplacian = False)"
   ]
  },
  {
   "cell_type": "code",
   "execution_count": null,
   "id": "dd26b2c1-64cd-4f72-a52a-0629cb4edd6a",
   "metadata": {},
   "outputs": [],
   "source": []
  }
 ],
 "metadata": {
  "kernelspec": {
   "display_name": "Python 3 (ipykernel)",
   "language": "python",
   "name": "python3"
  },
  "language_info": {
   "codemirror_mode": {
    "name": "ipython",
    "version": 3
   },
   "file_extension": ".py",
   "mimetype": "text/x-python",
   "name": "python",
   "nbconvert_exporter": "python",
   "pygments_lexer": "ipython3",
   "version": "3.10.6"
  }
 },
 "nbformat": 4,
 "nbformat_minor": 5
}
