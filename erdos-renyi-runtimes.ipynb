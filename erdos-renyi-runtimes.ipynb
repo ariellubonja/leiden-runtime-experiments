{
 "cells": [
  {
   "attachments": {},
   "cell_type": "markdown",
   "metadata": {},
   "source": [
    "# Testing the various Leiden algorithms, checking Scaling using Erdos-Renyi graphs"
   ]
  },
  {
   "cell_type": "code",
   "execution_count": 6,
   "metadata": {},
   "outputs": [],
   "source": [
    "import networkit as nk\n",
    "import os"
   ]
  },
  {
   "cell_type": "code",
   "execution_count": 4,
   "metadata": {},
   "outputs": [],
   "source": [
    "graphs_path = \"erdos-renyi-graphs/\""
   ]
  },
  {
   "cell_type": "code",
   "execution_count": 3,
   "metadata": {},
   "outputs": [],
   "source": [
    "# Read iGraph\n",
    "networkit_graph = nk.readGraph(\"erdos-renyi-graphs/8110-edges.edgelist\", nk.Format.EdgeListTabZero)"
   ]
  },
  {
   "cell_type": "code",
   "execution_count": 13,
   "metadata": {},
   "outputs": [
    {
     "name": "stdout",
     "output_type": "stream",
     "text": [
      "5.69 ms ± 31.8 µs per loop (mean ± std. dev. of 7 runs, 100 loops each)\n"
     ]
    }
   ],
   "source": [
    "%%timeit # TODO is this inaccurate? Should I use perf?\n",
    "pl = nk.community.ParallelLeiden(networkit_graph)\n",
    "\n",
    "pl.run()"
   ]
  },
  {
   "cell_type": "code",
   "execution_count": 12,
   "metadata": {},
   "outputs": [
    {
     "data": {
      "text/plain": [
       "['8110-edges.edgelist', '16390-edges.edgelist', '32650-edges.edgelist']"
      ]
     },
     "execution_count": 12,
     "metadata": {},
     "output_type": "execute_result"
    }
   ],
   "source": [
    "# Sort files by number of edges ascending\n",
    "sorted_filenames = sorted(os.listdir(graphs_path), key=lambda x: int(x.split('-')[0]))\n",
    "sorted_filenames[:3]"
   ]
  },
  {
   "cell_type": "code",
   "execution_count": 15,
   "metadata": {},
   "outputs": [
    {
     "name": "stdout",
     "output_type": "stream",
     "text": [
      "5.44 ms ± 566 µs per loop (mean ± std. dev. of 7 runs, 100 loops each)\n",
      "7.7 ms ± 683 µs per loop (mean ± std. dev. of 7 runs, 100 loops each)\n",
      "11.3 ms ± 152 µs per loop (mean ± std. dev. of 7 runs, 100 loops each)\n"
     ]
    }
   ],
   "source": [
    "for filename in sorted_filenames:\n",
    "    networkit_graph = nk.readGraph(graphs_path + filename, nk.Format.EdgeListTabZero)\n",
    "    print(networkit_graph.numberOfEdges())\n",
    "    %timeit nk.community.ParallelLeiden(networkit_graph).run()"
   ]
  },
  {
   "cell_type": "code",
   "execution_count": null,
   "metadata": {},
   "outputs": [],
   "source": []
  }
 ],
 "metadata": {
  "kernelspec": {
   "display_name": "venv",
   "language": "python",
   "name": "python3"
  },
  "language_info": {
   "codemirror_mode": {
    "name": "ipython",
    "version": 3
   },
   "file_extension": ".py",
   "mimetype": "text/x-python",
   "name": "python",
   "nbconvert_exporter": "python",
   "pygments_lexer": "ipython3",
   "version": "3.9.6"
  },
  "orig_nbformat": 4
 },
 "nbformat": 4,
 "nbformat_minor": 2
}
