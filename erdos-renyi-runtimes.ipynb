{
 "cells": [
  {
   "cell_type": "markdown",
   "metadata": {},
   "source": [
    "# Testing the various Leiden algorithms, checking Scaling using Erdos-Renyi graphs"
   ]
  },
  {
   "cell_type": "code",
   "execution_count": 1,
   "metadata": {},
   "outputs": [],
   "source": [
    "import networkit as nk\n",
    "import os"
   ]
  },
  {
   "cell_type": "code",
   "execution_count": 2,
   "metadata": {},
   "outputs": [],
   "source": [
    "graphs_path = \"erdos-renyi-graphs/\""
   ]
  },
  {
   "cell_type": "code",
   "execution_count": 3,
   "metadata": {},
   "outputs": [
    {
     "data": {
      "text/plain": [
       "['8110-edges.edgelist', '16390-edges.edgelist', '32650-edges.edgelist']"
      ]
     },
     "execution_count": 3,
     "metadata": {},
     "output_type": "execute_result"
    }
   ],
   "source": [
    "# Sort files by number of edges ascending\n",
    "sorted_filenames = sorted(os.listdir(graphs_path), key=lambda x: int(x.split('-')[0]))\n",
    "sorted_filenames[:3]"
   ]
  },
  {
   "cell_type": "code",
   "execution_count": null,
   "metadata": {},
   "outputs": [
    {
     "name": "stdout",
     "output_type": "stream",
     "text": [
      "8110\n",
      "2.83 ms ± 520 µs per loop (mean ± std. dev. of 7 runs, 10 loops each)\n",
      "16390\n",
      "3.5 ms ± 173 µs per loop (mean ± std. dev. of 7 runs, 10 loops each)\n",
      "32650\n",
      "4.48 ms ± 110 µs per loop (mean ± std. dev. of 7 runs, 10 loops each)\n",
      "65169\n",
      "5.95 ms ± 179 µs per loop (mean ± std. dev. of 7 runs, 10 loops each)\n",
      "131328\n",
      "8.24 ms ± 550 µs per loop (mean ± std. dev. of 7 runs, 10 loops each)\n",
      "261907\n",
      "10.7 ms ± 62.9 µs per loop (mean ± std. dev. of 7 runs, 10 loops each)\n",
      "523722\n",
      "11.8 ms ± 73.2 µs per loop (mean ± std. dev. of 7 runs, 10 loops each)\n",
      "1050559\n",
      "12.4 ms ± 86.9 µs per loop (mean ± std. dev. of 7 runs, 10 loops each)\n",
      "2097945\n",
      "20.4 ms ± 287 µs per loop (mean ± std. dev. of 7 runs, 10 loops each)\n",
      "4189610\n",
      "36.3 ms ± 408 µs per loop (mean ± std. dev. of 7 runs, 10 loops each)\n",
      "8390405\n",
      "106 ms ± 947 µs per loop (mean ± std. dev. of 7 runs, 10 loops each)\n",
      "16782014\n",
      "152 ms ± 2.3 ms per loop (mean ± std. dev. of 7 runs, 10 loops each)\n",
      "33556537\n",
      "206 ms ± 945 µs per loop (mean ± std. dev. of 7 runs, 10 loops each)\n",
      "67102453\n",
      "301 ms ± 2.67 ms per loop (mean ± std. dev. of 7 runs, 10 loops each)\n",
      "134203554\n",
      "474 ms ± 1.86 ms per loop (mean ± std. dev. of 7 runs, 10 loops each)\n",
      "268456640\n",
      "910 ms ± 12.7 ms per loop (mean ± std. dev. of 7 runs, 10 loops each)\n",
      "536856256\n",
      "1.6 s ± 6.73 ms per loop (mean ± std. dev. of 7 runs, 10 loops each)\n",
      "1073753054\n",
      "2.74 s ± 10.5 ms per loop (mean ± std. dev. of 7 runs, 10 loops each)\n"
     ]
    }
   ],
   "source": [
    "for filename in sorted_filenames:\n",
    "    networkit_graph = nk.readGraph(graphs_path + filename, nk.Format.EdgeListTabZero)\n",
    "    print(networkit_graph.numberOfEdges())\n",
    "    %timeit -r 7 -n 10 nk.community.ParallelLeiden(networkit_graph).run()"
   ]
  },
  {
   "cell_type": "code",
   "execution_count": 4,
   "metadata": {},
   "outputs": [
    {
     "name": "stdout",
     "output_type": "stream",
     "text": [
      "2147497668\n"
     ]
    }
   ],
   "source": [
    "networkit_graph = nk.readGraph(graphs_path + sorted_filenames[18], nk.Format.EdgeListTabZero)\n",
    "\n",
    "print(networkit_graph.numberOfEdges())"
   ]
  },
  {
   "cell_type": "code",
   "execution_count": 5,
   "metadata": {},
   "outputs": [
    {
     "name": "stdout",
     "output_type": "stream",
     "text": [
      "5.35 s ± 10.3 ms per loop (mean ± std. dev. of 7 runs, 10 loops each)\n"
     ]
    }
   ],
   "source": [
    "%%timeit -r 7 -n 10 nk.community.ParallelLeiden(networkit_graph).run()\n",
    "\n",
    "nk.community.ParallelLeiden(networkit_graph).run()"
   ]
  },
  {
   "cell_type": "code",
   "execution_count": 4,
   "metadata": {},
   "outputs": [
    {
     "data": {
      "text/plain": [
       "19"
      ]
     },
     "execution_count": 4,
     "metadata": {},
     "output_type": "execute_result"
    }
   ],
   "source": [
    "len(sorted_filenames)"
   ]
  },
  {
   "cell_type": "code",
   "execution_count": null,
   "metadata": {},
   "outputs": [],
   "source": []
  }
 ],
 "metadata": {
  "kernelspec": {
   "display_name": "Python 3 (ipykernel)",
   "language": "python",
   "name": "python3"
  },
  "language_info": {
   "codemirror_mode": {
    "name": "ipython",
    "version": 3
   },
   "file_extension": ".py",
   "mimetype": "text/x-python",
   "name": "python",
   "nbconvert_exporter": "python",
   "pygments_lexer": "ipython3",
   "version": "3.10.12"
  }
 },
 "nbformat": 4,
 "nbformat_minor": 4
}
