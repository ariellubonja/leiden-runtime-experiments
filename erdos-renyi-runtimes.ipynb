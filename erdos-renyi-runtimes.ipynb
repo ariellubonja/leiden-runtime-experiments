{
 "cells": [
  {
   "cell_type": "markdown",
   "metadata": {},
   "source": [
    "# Testing the various Leiden algorithms, checking Scaling using Erdos-Renyi graphs"
   ]
  },
  {
   "cell_type": "code",
   "execution_count": 7,
   "metadata": {},
   "outputs": [],
   "source": [
    "import networkit as nk\n",
    "import os"
   ]
  },
  {
   "cell_type": "code",
   "execution_count": 8,
   "metadata": {},
   "outputs": [],
   "source": [
    "graphs_path = \"erdos-renyi-graphs/\""
   ]
  },
  {
   "cell_type": "code",
   "execution_count": 15,
   "metadata": {},
   "outputs": [
    {
     "data": {
      "text/plain": [
       "['8110-edges.edgelist', '16390-edges.edgelist', '32650-edges.edgelist']"
      ]
     },
     "execution_count": 15,
     "metadata": {},
     "output_type": "execute_result"
    }
   ],
   "source": [
    "# Sort files by number of edges ascending\n",
    "sorted_filenames = sorted(os.listdir(graphs_path), key=lambda x: int(x.split('-')[0]))\n",
    "sorted_filenames[:3]"
   ]
  },
  {
   "cell_type": "code",
   "execution_count": 13,
   "metadata": {},
   "outputs": [
    {
     "name": "stdout",
     "output_type": "stream",
     "text": [
      "8110\n",
      "3.81 ms ± 613 µs per loop (mean ± std. dev. of 7 runs, 10 loops each)\n",
      "16390\n",
      "5.43 ms ± 236 µs per loop (mean ± std. dev. of 7 runs, 10 loops each)\n",
      "32650\n",
      "7.79 ms ± 168 µs per loop (mean ± std. dev. of 7 runs, 10 loops each)\n",
      "65169\n",
      "11.1 ms ± 133 µs per loop (mean ± std. dev. of 7 runs, 10 loops each)\n",
      "131328\n",
      "15.7 ms ± 196 µs per loop (mean ± std. dev. of 7 runs, 10 loops each)\n",
      "261907\n",
      "22.5 ms ± 239 µs per loop (mean ± std. dev. of 7 runs, 10 loops each)\n",
      "523722\n",
      "28.4 ms ± 1.01 ms per loop (mean ± std. dev. of 7 runs, 10 loops each)\n",
      "1050559\n",
      "32.2 ms ± 655 µs per loop (mean ± std. dev. of 7 runs, 10 loops each)\n",
      "2097945\n",
      "43.9 ms ± 486 µs per loop (mean ± std. dev. of 7 runs, 10 loops each)\n",
      "4189610\n",
      "70.5 ms ± 188 µs per loop (mean ± std. dev. of 7 runs, 10 loops each)\n",
      "8390405\n",
      "197 ms ± 1.65 ms per loop (mean ± std. dev. of 7 runs, 10 loops each)\n",
      "16782014\n",
      "278 ms ± 3.73 ms per loop (mean ± std. dev. of 7 runs, 10 loops each)\n",
      "33556537\n",
      "377 ms ± 2.99 ms per loop (mean ± std. dev. of 7 runs, 10 loops each)\n",
      "67102453\n",
      "620 ms ± 5.41 ms per loop (mean ± std. dev. of 7 runs, 10 loops each)\n",
      "134203554\n",
      "1.11 s ± 3.36 ms per loop (mean ± std. dev. of 7 runs, 10 loops each)\n",
      "268456640\n",
      "2.02 s ± 6.42 ms per loop (mean ± std. dev. of 7 runs, 10 loops each)\n",
      "536856256\n",
      "3.79 s ± 13.5 ms per loop (mean ± std. dev. of 7 runs, 10 loops each)\n",
      "1073753054\n",
      "7.08 s ± 29.2 ms per loop (mean ± std. dev. of 7 runs, 10 loops each)\n"
     ]
    }
   ],
   "source": [
    "for filename in sorted_filenames:\n",
    "    networkit_graph = nk.readGraph(graphs_path + filename, nk.Format.EdgeListTabZero)\n",
    "    print(networkit_graph.numberOfEdges())\n",
    "    %timeit -r 7 -n 10 nk.community.ParallelLeiden(networkit_graph).run()"
   ]
  },
  {
   "cell_type": "code",
   "execution_count": null,
   "metadata": {},
   "outputs": [],
   "source": [
    "networkit_graph = nk.readGraph(graphs_path + sorted_filenames[18], nk.Format.EdgeListTabZero)\n",
    "\n",
    "print(networkit_graph.numberOfEdges())\n",
    "\n",
    "nk.community.ParallelLeiden(networkit_graph).run()"
   ]
  },
  {
   "cell_type": "code",
   "execution_count": 16,
   "metadata": {},
   "outputs": [
    {
     "data": {
      "text/plain": [
       "19"
      ]
     },
     "execution_count": 16,
     "metadata": {},
     "output_type": "execute_result"
    }
   ],
   "source": [
    "len(sorted_filenames)"
   ]
  },
  {
   "cell_type": "code",
   "execution_count": null,
   "metadata": {},
   "outputs": [],
   "source": []
  }
 ],
 "metadata": {
  "kernelspec": {
   "display_name": "Python 3 (ipykernel)",
   "language": "python",
   "name": "python3"
  },
  "language_info": {
   "codemirror_mode": {
    "name": "ipython",
    "version": 3
   },
   "file_extension": ".py",
   "mimetype": "text/x-python",
   "name": "python",
   "nbconvert_exporter": "python",
   "pygments_lexer": "ipython3",
   "version": "3.9.6"
  }
 },
 "nbformat": 4,
 "nbformat_minor": 2
}
